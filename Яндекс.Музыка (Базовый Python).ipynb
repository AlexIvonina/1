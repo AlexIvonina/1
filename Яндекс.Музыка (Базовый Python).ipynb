{
 "cells": [
  {
   "cell_type": "markdown",
   "metadata": {
    "id": "E0vqbgi9ay0H"
   },
   "source": [
    "# Яндекс.Музыка"
   ]
  },
  {
   "cell_type": "markdown",
   "metadata": {
    "id": "VUC88oWjTJw2"
   },
   "source": [
    "Сравнение Москвы и Петербурга окружено мифами. Например:\n",
    " * Москва — мегаполис, подчинённый жёсткому ритму рабочей недели;\n",
    " * Петербург — культурная столица, со своими вкусами.\n",
    "\n",
    "На данных Яндекс.Музыки вы сравните поведение пользователей двух столиц.\n",
    "\n",
    "**Цель исследования** — проверьте три гипотезы:\n",
    "1. Активность пользователей зависит от дня недели. Причём в Москве и Петербурге это проявляется по-разному.\n",
    "2. В понедельник утром в Москве преобладают одни жанры, а в Петербурге — другие. Так же и вечером пятницы преобладают разные жанры — в зависимости от города. \n",
    "3. Москва и Петербург предпочитают разные жанры музыки. В Москве чаще слушают поп-музыку, в Петербурге — русский рэп.\n",
    "\n",
    "**Ход исследования**\n",
    "\n",
    "Данные о поведении пользователей вы получим из файла `yandex_music_project.csv`. О качестве данных ничего не известно. Поэтому перед проверкой гипотез понадобится обзор данных. \n",
    "\n",
    "Проверим данные на ошибки и оценим их влияние на исследование. Затем, на этапе предобработки поищем возможность исправить самые критичные ошибки данных.\n",
    " \n",
    "Таким образом, исследование пройдёт в три этапа:\n",
    " 1. Обзор данных.\n",
    " 2. Предобработка данных.\n",
    " 3. Проверка гипотез."
   ]
  },
  {
   "cell_type": "markdown",
   "metadata": {
    "id": "Ml1hmfXC_Zcs"
   },
   "source": [
    "## Обзор данных\n",
    "\n",
    "Составим первое представление о данных Яндекс.Музыки."
   ]
  },
  {
   "cell_type": "code",
   "execution_count": 2,
   "metadata": {
    "id": "AXN7PHPN_Zcs"
   },
   "outputs": [],
   "source": [
    "# импорт библиотеки pandas\n",
    "import pandas as pd\n",
    "import os"
   ]
  },
  {
   "cell_type": "code",
   "execution_count": 4,
   "metadata": {},
   "outputs": [
    {
     "data": {
      "text/html": [
       "<div>\n",
       "<style scoped>\n",
       "    .dataframe tbody tr th:only-of-type {\n",
       "        vertical-align: middle;\n",
       "    }\n",
       "\n",
       "    .dataframe tbody tr th {\n",
       "        vertical-align: top;\n",
       "    }\n",
       "\n",
       "    .dataframe thead th {\n",
       "        text-align: right;\n",
       "    }\n",
       "</style>\n",
       "<table border=\"1\" class=\"dataframe\">\n",
       "  <thead>\n",
       "    <tr style=\"text-align: right;\">\n",
       "      <th></th>\n",
       "      <th>userID</th>\n",
       "      <th>Track</th>\n",
       "      <th>artist</th>\n",
       "      <th>genre</th>\n",
       "      <th>City</th>\n",
       "      <th>time</th>\n",
       "      <th>Day</th>\n",
       "    </tr>\n",
       "  </thead>\n",
       "  <tbody>\n",
       "    <tr>\n",
       "      <th>0</th>\n",
       "      <td>FFB692EC</td>\n",
       "      <td>Kamigata To Boots</td>\n",
       "      <td>The Mass Missile</td>\n",
       "      <td>rock</td>\n",
       "      <td>Saint-Petersburg</td>\n",
       "      <td>20:28:33</td>\n",
       "      <td>Wednesday</td>\n",
       "    </tr>\n",
       "    <tr>\n",
       "      <th>1</th>\n",
       "      <td>55204538</td>\n",
       "      <td>Delayed Because of Accident</td>\n",
       "      <td>Andreas Rönnberg</td>\n",
       "      <td>rock</td>\n",
       "      <td>Moscow</td>\n",
       "      <td>14:07:09</td>\n",
       "      <td>Friday</td>\n",
       "    </tr>\n",
       "    <tr>\n",
       "      <th>2</th>\n",
       "      <td>20EC38</td>\n",
       "      <td>Funiculì funiculà</td>\n",
       "      <td>Mario Lanza</td>\n",
       "      <td>pop</td>\n",
       "      <td>Saint-Petersburg</td>\n",
       "      <td>20:58:07</td>\n",
       "      <td>Wednesday</td>\n",
       "    </tr>\n",
       "    <tr>\n",
       "      <th>3</th>\n",
       "      <td>A3DD03C9</td>\n",
       "      <td>Dragons in the Sunset</td>\n",
       "      <td>Fire + Ice</td>\n",
       "      <td>folk</td>\n",
       "      <td>Saint-Petersburg</td>\n",
       "      <td>08:37:09</td>\n",
       "      <td>Monday</td>\n",
       "    </tr>\n",
       "    <tr>\n",
       "      <th>4</th>\n",
       "      <td>E2DC1FAE</td>\n",
       "      <td>Soul People</td>\n",
       "      <td>Space Echo</td>\n",
       "      <td>dance</td>\n",
       "      <td>Moscow</td>\n",
       "      <td>08:34:34</td>\n",
       "      <td>Monday</td>\n",
       "    </tr>\n",
       "    <tr>\n",
       "      <th>5</th>\n",
       "      <td>842029A1</td>\n",
       "      <td>Преданная</td>\n",
       "      <td>IMPERVTOR</td>\n",
       "      <td>rusrap</td>\n",
       "      <td>Saint-Petersburg</td>\n",
       "      <td>13:09:41</td>\n",
       "      <td>Friday</td>\n",
       "    </tr>\n",
       "    <tr>\n",
       "      <th>6</th>\n",
       "      <td>4CB90AA5</td>\n",
       "      <td>True</td>\n",
       "      <td>Roman Messer</td>\n",
       "      <td>dance</td>\n",
       "      <td>Moscow</td>\n",
       "      <td>13:00:07</td>\n",
       "      <td>Wednesday</td>\n",
       "    </tr>\n",
       "    <tr>\n",
       "      <th>7</th>\n",
       "      <td>F03E1C1F</td>\n",
       "      <td>Feeling This Way</td>\n",
       "      <td>Polina Griffith</td>\n",
       "      <td>dance</td>\n",
       "      <td>Moscow</td>\n",
       "      <td>20:47:49</td>\n",
       "      <td>Wednesday</td>\n",
       "    </tr>\n",
       "    <tr>\n",
       "      <th>8</th>\n",
       "      <td>8FA1D3BE</td>\n",
       "      <td>И вновь продолжается бой</td>\n",
       "      <td>NaN</td>\n",
       "      <td>ruspop</td>\n",
       "      <td>Moscow</td>\n",
       "      <td>09:17:40</td>\n",
       "      <td>Friday</td>\n",
       "    </tr>\n",
       "    <tr>\n",
       "      <th>9</th>\n",
       "      <td>E772D5C0</td>\n",
       "      <td>Pessimist</td>\n",
       "      <td>NaN</td>\n",
       "      <td>dance</td>\n",
       "      <td>Saint-Petersburg</td>\n",
       "      <td>21:20:49</td>\n",
       "      <td>Wednesday</td>\n",
       "    </tr>\n",
       "  </tbody>\n",
       "</table>\n",
       "</div>"
      ],
      "text/plain": [
       "     userID                        Track            artist   genre  \\\n",
       "0  FFB692EC            Kamigata To Boots  The Mass Missile    rock   \n",
       "1  55204538  Delayed Because of Accident  Andreas Rönnberg    rock   \n",
       "2    20EC38            Funiculì funiculà       Mario Lanza     pop   \n",
       "3  A3DD03C9        Dragons in the Sunset        Fire + Ice    folk   \n",
       "4  E2DC1FAE                  Soul People        Space Echo   dance   \n",
       "5  842029A1                    Преданная         IMPERVTOR  rusrap   \n",
       "6  4CB90AA5                         True      Roman Messer   dance   \n",
       "7  F03E1C1F             Feeling This Way   Polina Griffith   dance   \n",
       "8  8FA1D3BE     И вновь продолжается бой               NaN  ruspop   \n",
       "9  E772D5C0                    Pessimist               NaN   dance   \n",
       "\n",
       "             City        time        Day  \n",
       "0  Saint-Petersburg  20:28:33  Wednesday  \n",
       "1            Moscow  14:07:09     Friday  \n",
       "2  Saint-Petersburg  20:58:07  Wednesday  \n",
       "3  Saint-Petersburg  08:37:09     Monday  \n",
       "4            Moscow  08:34:34     Monday  \n",
       "5  Saint-Petersburg  13:09:41     Friday  \n",
       "6            Moscow  13:00:07  Wednesday  \n",
       "7            Moscow  20:47:49  Wednesday  \n",
       "8            Moscow  09:17:40     Friday  \n",
       "9  Saint-Petersburg  21:20:49  Wednesday  "
      ]
     },
     "execution_count": 4,
     "metadata": {},
     "output_type": "execute_result"
    }
   ],
   "source": [
    "# проверка на путь\n",
    "if os.path.exists('/datasets/yandex_music_project.csv'):\n",
    "    path = '/datasets/'\n",
    "else:\n",
    "    path = './'\n",
    "    \n",
    "# загружаем датасет в df\n",
    "df = pd.read_csv(path+'yandex_music_project.csv')\n",
    "\n",
    "# проверка загрузки данных и отображение первых 10 строк\n",
    "df.head(10)"
   ]
  },
  {
   "cell_type": "markdown",
   "metadata": {
    "id": "EO73Kwic_Zct"
   },
   "source": [
    "Посмотрим на общую информацию о таблице:"
   ]
  },
  {
   "cell_type": "code",
   "execution_count": 5,
   "metadata": {
    "id": "DSf2kIb-_Zct"
   },
   "outputs": [
    {
     "name": "stdout",
     "output_type": "stream",
     "text": [
      "<class 'pandas.core.frame.DataFrame'>\n",
      "RangeIndex: 65079 entries, 0 to 65078\n",
      "Data columns (total 7 columns):\n",
      " #   Column    Non-Null Count  Dtype \n",
      "---  ------    --------------  ----- \n",
      " 0     userID  65079 non-null  object\n",
      " 1   Track     63848 non-null  object\n",
      " 2   artist    57876 non-null  object\n",
      " 3   genre     63881 non-null  object\n",
      " 4     City    65079 non-null  object\n",
      " 5   time      65079 non-null  object\n",
      " 6   Day       65079 non-null  object\n",
      "dtypes: object(7)\n",
      "memory usage: 3.5+ MB\n"
     ]
    }
   ],
   "source": [
    "# получение общей информации о данных в таблице df\n",
    "df.info()"
   ]
  },
  {
   "cell_type": "markdown",
   "metadata": {
    "id": "TaQ2Iwbr_Zct"
   },
   "source": [
    "Итак, в таблице семь столбцов. Тип данных во всех столбцах — `object`.\n",
    "\n",
    "Согласно документации к данным:\n",
    "* `userID` — идентификатор пользователя;\n",
    "* `Track` — название трека;  \n",
    "* `artist` — имя исполнителя;\n",
    "* `genre` — название жанра;\n",
    "* `City` — город пользователя;\n",
    "* `time` — время начала прослушивания;\n",
    "* `Day` — день недели.\n",
    "\n",
    "В названиях колонок видны три нарушения стиля:\n",
    "1. Строчные буквы сочетаются с прописными.\n",
    "2. Встречаются пробелы.\n",
    "3. Не применен Snake case, например user_id, а не userID.\n",
    "\n",
    "\n",
    "\n",
    "Количество значений в столбцах различается. Значит, в данных есть пропущенные значения.\n"
   ]
  },
  {
   "cell_type": "markdown",
   "metadata": {
    "id": "MCB6-dXG_Zct"
   },
   "source": [
    "**Выводы**\n",
    "\n",
    "В каждой строке таблицы — данные о прослушанном треке. Часть колонок описывает саму композицию: название, исполнителя и жанр. Остальные данные рассказывают о пользователе: из какого он города, когда он слушал музыку. \n",
    "\n",
    "Предварительно можно утверждать, что, данных достаточно для проверки гипотез. Но встречаются пропуски в данных, а в названиях колонок — расхождения с хорошим стилем.\n",
    "\n",
    "Чтобы двигаться дальше, нужно устранить проблемы в данных."
   ]
  },
  {
   "cell_type": "markdown",
   "metadata": {
    "id": "SjYF6Ub9_Zct"
   },
   "source": [
    "## Предобработка данных\n",
    "Исправим стиль в заголовках столбцов, исключим пропуски. Затем проверим данные на дубликаты."
   ]
  },
  {
   "cell_type": "markdown",
   "metadata": {
    "id": "dIaKXr29_Zct"
   },
   "source": [
    "### Стиль заголовков\n",
    "Выведим на экран названия столбцов:"
   ]
  },
  {
   "cell_type": "code",
   "execution_count": 6,
   "metadata": {
    "id": "oKOTdF_Q_Zct"
   },
   "outputs": [
    {
     "data": {
      "text/plain": [
       "Index(['  userID', 'Track', 'artist', 'genre', '  City  ', 'time', 'Day'], dtype='object')"
      ]
     },
     "execution_count": 6,
     "metadata": {},
     "output_type": "execute_result"
    }
   ],
   "source": [
    "# перечень названий столбцов таблицы df\n",
    "df.columns"
   ]
  },
  {
   "cell_type": "markdown",
   "metadata": {
    "id": "zj5534cv_Zct"
   },
   "source": [
    "Приведем названия в соответствие с хорошим стилем:\n",
    "* несколько слов в названии запишем в «змеином_регистре»,\n",
    "* все символы сделаем строчными,\n",
    "* устраним пробелы.\n",
    "\n",
    "Для этого переименуем колонки так:\n",
    "* `'  userID'` → `'user_id'`;\n",
    "* `'Track'` → `'track'`;\n",
    "* `'  City  '` → `'city'`;\n",
    "* `'Day'` → `'day'`."
   ]
  },
  {
   "cell_type": "code",
   "execution_count": 7,
   "metadata": {
    "id": "ISlFqs5y_Zct"
   },
   "outputs": [],
   "source": [
    "# переименование столбцов\n",
    "df=df.rename(columns={\n",
    "    '  userID':'user_id',\n",
    "    'Track':'track',\n",
    "    '  City  ':'city',\n",
    "    'Day':'day'})"
   ]
  },
  {
   "cell_type": "markdown",
   "metadata": {
    "id": "1dqbh00J_Zct"
   },
   "source": [
    "Проверим результат. Для этого ещё раз выведим на экран названия столбцов:"
   ]
  },
  {
   "cell_type": "code",
   "execution_count": 8,
   "metadata": {
    "id": "d4NOAmTW_Zct"
   },
   "outputs": [
    {
     "data": {
      "text/plain": [
       "Index(['user_id', 'track', 'artist', 'genre', 'city', 'time', 'day'], dtype='object')"
      ]
     },
     "execution_count": 8,
     "metadata": {},
     "output_type": "execute_result"
    }
   ],
   "source": [
    "# проверка результатов - перечень названий столбцов\n",
    "df.columns"
   ]
  },
  {
   "cell_type": "markdown",
   "metadata": {
    "id": "5ISfbcfY_Zct"
   },
   "source": [
    "### Пропуски значений\n",
    "Сначала посчитаем, сколько в таблице пропущенных значений."
   ]
  },
  {
   "cell_type": "code",
   "execution_count": 9,
   "metadata": {
    "id": "RskX29qr_Zct"
   },
   "outputs": [
    {
     "data": {
      "text/plain": [
       "user_id       0\n",
       "track      1231\n",
       "artist     7203\n",
       "genre      1198\n",
       "city          0\n",
       "time          0\n",
       "day           0\n",
       "dtype: int64"
      ]
     },
     "execution_count": 9,
     "metadata": {},
     "output_type": "execute_result"
    }
   ],
   "source": [
    "# подсчёт пропусков\n",
    "df.isna().sum()"
   ]
  },
  {
   "cell_type": "markdown",
   "metadata": {
    "id": "qubhgnlO_Zct"
   },
   "source": [
    "Не все пропущенные значения влияют на исследование. Так в `track` и `artist` пропуски не важны для нашей работы. Достаточно заменить их явными обозначениями.\n",
    "\n",
    "Но пропуски в `genre` могут помешать сравнению музыкальных вкусов в Москве и Санкт-Петербурге. На практике было бы правильно установить причину пропусков и восстановить данные. Такой возможности нет в учебном проекте. Придётся:\n",
    "* заполнить и эти пропуски явными обозначениями,\n",
    "* оценить, насколько они повредят расчётам. "
   ]
  },
  {
   "cell_type": "markdown",
   "metadata": {
    "id": "fSv2laPA_Zct"
   },
   "source": [
    "Заменим пропущенные значения в столбцах `track`, `artist` и `genre` на строку `'unknown'`."
   ]
  },
  {
   "cell_type": "code",
   "execution_count": 10,
   "metadata": {
    "id": "KplB5qWs_Zct"
   },
   "outputs": [],
   "source": [
    "# перебор названий столбцов в цикле и замена пропущенных значений на 'unknown'\n",
    "columns_to_replace = ['track','artist','genre']\n",
    "for column in columns_to_replace:\n",
    "    df[column] = df[column].fillna('unknown')"
   ]
  },
  {
   "cell_type": "markdown",
   "metadata": {
    "id": "Ilsm-MZo_Zct"
   },
   "source": [
    "Убедимся, что в таблице не осталось пропусков. Для этого ещё раз посчитаем пропущенные значения."
   ]
  },
  {
   "cell_type": "code",
   "execution_count": 11,
   "metadata": {
    "id": "Tq4nYRX4_Zct"
   },
   "outputs": [
    {
     "data": {
      "text/plain": [
       "user_id    0\n",
       "track      0\n",
       "artist     0\n",
       "genre      0\n",
       "city       0\n",
       "time       0\n",
       "day        0\n",
       "dtype: int64"
      ]
     },
     "execution_count": 11,
     "metadata": {},
     "output_type": "execute_result"
    }
   ],
   "source": [
    "# подсчёт пропусков\n",
    "df.isna().sum()"
   ]
  },
  {
   "cell_type": "markdown",
   "metadata": {
    "id": "BWKRtBJ3_Zct"
   },
   "source": [
    "### Дубликаты\n",
    "Посчитаем явные дубликаты в таблице одной командой:"
   ]
  },
  {
   "cell_type": "code",
   "execution_count": 12,
   "metadata": {
    "id": "36eES_S0_Zct"
   },
   "outputs": [
    {
     "data": {
      "text/plain": [
       "3826"
      ]
     },
     "execution_count": 12,
     "metadata": {},
     "output_type": "execute_result"
    }
   ],
   "source": [
    "# подсчёт явных дубликатов\n",
    "df.duplicated().sum()"
   ]
  },
  {
   "cell_type": "markdown",
   "metadata": {
    "id": "Ot25h6XR_Zct"
   },
   "source": [
    "Удалим явные дубликаты:"
   ]
  },
  {
   "cell_type": "code",
   "execution_count": 13,
   "metadata": {
    "id": "exFHq6tt_Zct"
   },
   "outputs": [],
   "source": [
    "# удаление явных дубликатов (с удалением старых индексов и формированием новых)\n",
    "df=df.drop_duplicates().reset_index(drop=True)"
   ]
  },
  {
   "cell_type": "markdown",
   "metadata": {
    "id": "Im2YwBEG_Zct"
   },
   "source": [
    "Проверим удаление явных дубликатов"
   ]
  },
  {
   "cell_type": "code",
   "execution_count": 14,
   "metadata": {
    "id": "-8PuNWQ0_Zct"
   },
   "outputs": [
    {
     "data": {
      "text/plain": [
       "0"
      ]
     },
     "execution_count": 14,
     "metadata": {},
     "output_type": "execute_result"
    }
   ],
   "source": [
    "# проверка на отсутствие дубликатов\n",
    "df.duplicated().sum()"
   ]
  },
  {
   "cell_type": "markdown",
   "metadata": {
    "id": "QlFBsxAr_Zct"
   },
   "source": [
    "Теперь избавимся от неявных дубликатов в колонке `genre`. Например, название одного и того же жанра может быть записано немного по-разному. Такие ошибки тоже повлияют на результат исследования."
   ]
  },
  {
   "cell_type": "markdown",
   "metadata": {
    "id": "eSjWwsOh_Zct"
   },
   "source": [
    "Выведим на экран список уникальных названий жанров, отсортированный в алфавитном порядке."
   ]
  },
  {
   "cell_type": "code",
   "execution_count": 15,
   "metadata": {
    "id": "JIUcqzZN_Zct"
   },
   "outputs": [
    {
     "data": {
      "text/plain": [
       "array(['acid', 'acoustic', 'action', 'adult', 'africa', 'afrikaans',\n",
       "       'alternative', 'alternativepunk', 'ambient', 'americana',\n",
       "       'animated', 'anime', 'arabesk', 'arabic', 'arena',\n",
       "       'argentinetango', 'art', 'audiobook', 'author', 'avantgarde',\n",
       "       'axé', 'baile', 'balkan', 'beats', 'bigroom', 'black', 'bluegrass',\n",
       "       'blues', 'bollywood', 'bossa', 'brazilian', 'breakbeat', 'breaks',\n",
       "       'broadway', 'cantautori', 'cantopop', 'canzone', 'caribbean',\n",
       "       'caucasian', 'celtic', 'chamber', 'chanson', 'children', 'chill',\n",
       "       'chinese', 'choral', 'christian', 'christmas', 'classical',\n",
       "       'classicmetal', 'club', 'colombian', 'comedy', 'conjazz',\n",
       "       'contemporary', 'country', 'cuban', 'dance', 'dancehall',\n",
       "       'dancepop', 'dark', 'death', 'deep', 'deutschrock', 'deutschspr',\n",
       "       'dirty', 'disco', 'dnb', 'documentary', 'downbeat', 'downtempo',\n",
       "       'drum', 'dub', 'dubstep', 'eastern', 'easy', 'electronic',\n",
       "       'electropop', 'emo', 'entehno', 'epicmetal', 'estrada', 'ethnic',\n",
       "       'eurofolk', 'european', 'experimental', 'extrememetal', 'fado',\n",
       "       'fairytail', 'film', 'fitness', 'flamenco', 'folk', 'folklore',\n",
       "       'folkmetal', 'folkrock', 'folktronica', 'forró', 'frankreich',\n",
       "       'französisch', 'french', 'funk', 'future', 'gangsta', 'garage',\n",
       "       'german', 'ghazal', 'gitarre', 'glitch', 'gospel', 'gothic',\n",
       "       'grime', 'grunge', 'gypsy', 'handsup', \"hard'n'heavy\", 'hardcore',\n",
       "       'hardstyle', 'hardtechno', 'hip', 'hip-hop', 'hiphop',\n",
       "       'historisch', 'holiday', 'hop', 'horror', 'house', 'hymn', 'idm',\n",
       "       'independent', 'indian', 'indie', 'indipop', 'industrial',\n",
       "       'inspirational', 'instrumental', 'international', 'irish', 'jam',\n",
       "       'japanese', 'jazz', 'jewish', 'jpop', 'jungle', 'k-pop',\n",
       "       'karadeniz', 'karaoke', 'kayokyoku', 'korean', 'laiko', 'latin',\n",
       "       'latino', 'leftfield', 'local', 'lounge', 'loungeelectronic',\n",
       "       'lovers', 'malaysian', 'mandopop', 'marschmusik', 'meditative',\n",
       "       'mediterranean', 'melodic', 'metal', 'metalcore', 'mexican',\n",
       "       'middle', 'minimal', 'miscellaneous', 'modern', 'mood', 'mpb',\n",
       "       'muslim', 'native', 'neoklassik', 'neue', 'new', 'newage',\n",
       "       'newwave', 'nu', 'nujazz', 'numetal', 'oceania', 'old', 'opera',\n",
       "       'orchestral', 'other', 'piano', 'podcasts', 'pop', 'popdance',\n",
       "       'popelectronic', 'popeurodance', 'poprussian', 'post',\n",
       "       'posthardcore', 'postrock', 'power', 'progmetal', 'progressive',\n",
       "       'psychedelic', 'punjabi', 'punk', 'quebecois', 'ragga', 'ram',\n",
       "       'rancheras', 'rap', 'rave', 'reggae', 'reggaeton', 'regional',\n",
       "       'relax', 'religious', 'retro', 'rhythm', 'rnb', 'rnr', 'rock',\n",
       "       'rockabilly', 'rockalternative', 'rockindie', 'rockother',\n",
       "       'romance', 'roots', 'ruspop', 'rusrap', 'rusrock', 'russian',\n",
       "       'salsa', 'samba', 'scenic', 'schlager', 'self', 'sertanejo',\n",
       "       'shanson', 'shoegazing', 'showtunes', 'singer', 'ska', 'skarock',\n",
       "       'slow', 'smooth', 'soft', 'soul', 'soulful', 'sound', 'soundtrack',\n",
       "       'southern', 'specialty', 'speech', 'spiritual', 'sport',\n",
       "       'stonerrock', 'surf', 'swing', 'synthpop', 'synthrock',\n",
       "       'sängerportrait', 'tango', 'tanzorchester', 'taraftar', 'tatar',\n",
       "       'tech', 'techno', 'teen', 'thrash', 'top', 'traditional',\n",
       "       'tradjazz', 'trance', 'tribal', 'trip', 'triphop', 'tropical',\n",
       "       'türk', 'türkçe', 'ukrrock', 'unknown', 'urban', 'uzbek',\n",
       "       'variété', 'vi', 'videogame', 'vocal', 'western', 'world',\n",
       "       'worldbeat', 'ïîï', 'электроника'], dtype=object)"
      ]
     },
     "execution_count": 15,
     "metadata": {},
     "output_type": "execute_result"
    }
   ],
   "source": [
    "# Просмотр уникальных названий жанров\n",
    "df.sort_values(by='genre')['genre'].unique()"
   ]
  },
  {
   "cell_type": "markdown",
   "metadata": {
    "id": "qej-Qmuo_Zct"
   },
   "source": [
    "Просмотрим список и найдем неявные дубликаты названия `hiphop`. Это могут быть названия с ошибками или альтернативные названия того же жанра.\n",
    "\n",
    "Видим следующие неявные дубликаты:\n",
    "* *hip*,\n",
    "* *hop*,\n",
    "* *hip-hop*.\n",
    "\n",
    "\n",
    "Также видим неявные дубликаты:\n",
    "* *электроника*,\n",
    "* *electronic*.\n",
    "\n",
    "Чтобы очистить от них таблицу, напишем функцию `replace_wrong_genres()` с двумя параметрами: \n",
    "* `wrong_genres` — список дубликатов,\n",
    "* `correct_genre` — строка с правильным значением."
   ]
  },
  {
   "cell_type": "code",
   "execution_count": 16,
   "metadata": {
    "id": "ErNDkmns_Zct"
   },
   "outputs": [],
   "source": [
    "# Функция для замены неявных дубликатов\n",
    "def replace_wrong_genres(wrong_genres, correct_genre):\n",
    "    '''\n",
    "    Функция исправляем колонку `genre` в таблице `df`:\n",
    "    заменяет каждое значение из списка `wrong_genres` на значение из `correct_genre`.\n",
    "    '''\n",
    "    for wrong_genre in wrong_genres:\n",
    "        df['genre'] = df['genre'].replace(wrong_genre, correct_genre)"
   ]
  },
  {
   "cell_type": "code",
   "execution_count": 17,
   "metadata": {
    "id": "YN5i2hpmSo09"
   },
   "outputs": [],
   "source": [
    "# Устранение неявных дубликатов\n",
    "replace_wrong_genres(['hip', 'hop', 'hip-hop'],'hiphop')\n",
    "# также устраним неявный дубликат 'электроника'\n",
    "replace_wrong_genres(['электроника'],'electronic')"
   ]
  },
  {
   "cell_type": "markdown",
   "metadata": {
    "id": "zQKF16_RG15m"
   },
   "source": [
    "Проверим, что заменили неправильные названия. Выведем отсортированный список уникальных значений столбца `genre`."
   ]
  },
  {
   "cell_type": "code",
   "execution_count": 18,
   "metadata": {
    "id": "wvixALnFG15m"
   },
   "outputs": [
    {
     "data": {
      "text/plain": [
       "array(['acid', 'acoustic', 'action', 'adult', 'africa', 'afrikaans',\n",
       "       'alternative', 'alternativepunk', 'ambient', 'americana',\n",
       "       'animated', 'anime', 'arabesk', 'arabic', 'arena',\n",
       "       'argentinetango', 'art', 'audiobook', 'author', 'avantgarde',\n",
       "       'axé', 'baile', 'balkan', 'beats', 'bigroom', 'black', 'bluegrass',\n",
       "       'blues', 'bollywood', 'bossa', 'brazilian', 'breakbeat', 'breaks',\n",
       "       'broadway', 'cantautori', 'cantopop', 'canzone', 'caribbean',\n",
       "       'caucasian', 'celtic', 'chamber', 'chanson', 'children', 'chill',\n",
       "       'chinese', 'choral', 'christian', 'christmas', 'classical',\n",
       "       'classicmetal', 'club', 'colombian', 'comedy', 'conjazz',\n",
       "       'contemporary', 'country', 'cuban', 'dance', 'dancehall',\n",
       "       'dancepop', 'dark', 'death', 'deep', 'deutschrock', 'deutschspr',\n",
       "       'dirty', 'disco', 'dnb', 'documentary', 'downbeat', 'downtempo',\n",
       "       'drum', 'dub', 'dubstep', 'eastern', 'easy', 'electronic',\n",
       "       'electropop', 'emo', 'entehno', 'epicmetal', 'estrada', 'ethnic',\n",
       "       'eurofolk', 'european', 'experimental', 'extrememetal', 'fado',\n",
       "       'fairytail', 'film', 'fitness', 'flamenco', 'folk', 'folklore',\n",
       "       'folkmetal', 'folkrock', 'folktronica', 'forró', 'frankreich',\n",
       "       'französisch', 'french', 'funk', 'future', 'gangsta', 'garage',\n",
       "       'german', 'ghazal', 'gitarre', 'glitch', 'gospel', 'gothic',\n",
       "       'grime', 'grunge', 'gypsy', 'handsup', \"hard'n'heavy\", 'hardcore',\n",
       "       'hardstyle', 'hardtechno', 'hiphop', 'historisch', 'holiday',\n",
       "       'horror', 'house', 'hymn', 'idm', 'independent', 'indian', 'indie',\n",
       "       'indipop', 'industrial', 'inspirational', 'instrumental',\n",
       "       'international', 'irish', 'jam', 'japanese', 'jazz', 'jewish',\n",
       "       'jpop', 'jungle', 'k-pop', 'karadeniz', 'karaoke', 'kayokyoku',\n",
       "       'korean', 'laiko', 'latin', 'latino', 'leftfield', 'local',\n",
       "       'lounge', 'loungeelectronic', 'lovers', 'malaysian', 'mandopop',\n",
       "       'marschmusik', 'meditative', 'mediterranean', 'melodic', 'metal',\n",
       "       'metalcore', 'mexican', 'middle', 'minimal', 'miscellaneous',\n",
       "       'modern', 'mood', 'mpb', 'muslim', 'native', 'neoklassik', 'neue',\n",
       "       'new', 'newage', 'newwave', 'nu', 'nujazz', 'numetal', 'oceania',\n",
       "       'old', 'opera', 'orchestral', 'other', 'piano', 'podcasts', 'pop',\n",
       "       'popdance', 'popelectronic', 'popeurodance', 'poprussian', 'post',\n",
       "       'posthardcore', 'postrock', 'power', 'progmetal', 'progressive',\n",
       "       'psychedelic', 'punjabi', 'punk', 'quebecois', 'ragga', 'ram',\n",
       "       'rancheras', 'rap', 'rave', 'reggae', 'reggaeton', 'regional',\n",
       "       'relax', 'religious', 'retro', 'rhythm', 'rnb', 'rnr', 'rock',\n",
       "       'rockabilly', 'rockalternative', 'rockindie', 'rockother',\n",
       "       'romance', 'roots', 'ruspop', 'rusrap', 'rusrock', 'russian',\n",
       "       'salsa', 'samba', 'scenic', 'schlager', 'self', 'sertanejo',\n",
       "       'shanson', 'shoegazing', 'showtunes', 'singer', 'ska', 'skarock',\n",
       "       'slow', 'smooth', 'soft', 'soul', 'soulful', 'sound', 'soundtrack',\n",
       "       'southern', 'specialty', 'speech', 'spiritual', 'sport',\n",
       "       'stonerrock', 'surf', 'swing', 'synthpop', 'synthrock',\n",
       "       'sängerportrait', 'tango', 'tanzorchester', 'taraftar', 'tatar',\n",
       "       'tech', 'techno', 'teen', 'thrash', 'top', 'traditional',\n",
       "       'tradjazz', 'trance', 'tribal', 'trip', 'triphop', 'tropical',\n",
       "       'türk', 'türkçe', 'ukrrock', 'unknown', 'urban', 'uzbek',\n",
       "       'variété', 'vi', 'videogame', 'vocal', 'western', 'world',\n",
       "       'worldbeat', 'ïîï'], dtype=object)"
      ]
     },
     "execution_count": 18,
     "metadata": {},
     "output_type": "execute_result"
    }
   ],
   "source": [
    "# Проверка на неявные дубликаты\n",
    "df.sort_values(by='genre')['genre'].unique()"
   ]
  },
  {
   "cell_type": "markdown",
   "metadata": {
    "id": "jz6a9-7HQUDd"
   },
   "source": [
    "**Выводы**\n",
    "\n",
    "Предобработка обнаружила три проблемы в данных:\n",
    "\n",
    "- нарушения в стиле заголовков,\n",
    "- пропущенные значения,\n",
    "- дубликаты — явные и неявные.\n",
    "\n",
    "Мы исправили заголовки, чтобы упростить работу с таблицей. Без дубликатов исследование станет более точным.\n",
    "\n",
    "Пропущенные значения заменили на `'unknown'`. Ещё предстоит увидеть, не повредят ли исследованию пропуски в колонке `genre`.\n",
    "\n",
    "Теперь можно перейти к проверке гипотез. "
   ]
  },
  {
   "cell_type": "markdown",
   "metadata": {
    "id": "WttZHXH0SqKk"
   },
   "source": [
    "## Проверка гипотез"
   ]
  },
  {
   "cell_type": "markdown",
   "metadata": {
    "id": "Im936VVi_Zcu"
   },
   "source": [
    "### Сравнение поведения пользователей двух столиц"
   ]
  },
  {
   "cell_type": "markdown",
   "metadata": {
    "id": "nwt_MuaL_Zcu"
   },
   "source": [
    "Первая гипотеза утверждает, что пользователи по-разному слушают музыку в Москве и Санкт-Петербурге. Проверим это предположение по данным о трёх днях недели — понедельнике, среде и пятнице. Для этого:\n",
    "\n",
    "* Разделим пользователей Москвы и Санкт-Петербурга\n",
    "* Сравним, сколько треков послушала каждая группа пользователей в понедельник, среду и пятницу.\n"
   ]
  },
  {
   "cell_type": "markdown",
   "metadata": {
    "id": "8Dw_YMmT_Zcu"
   },
   "source": [
    "Для тренировки сначала выполним каждый из расчётов по отдельности. \n",
    "\n",
    "Оценим активность пользователей в каждом городе. Сгруппируем данные по городу и посчитаем прослушивания в каждой группе."
   ]
  },
  {
   "cell_type": "code",
   "execution_count": 19,
   "metadata": {
    "id": "0_Qs96oh_Zcu"
   },
   "outputs": [
    {
     "name": "stdout",
     "output_type": "stream",
     "text": [
      "42741 18512\n"
     ]
    }
   ],
   "source": [
    "# Подсчёт прослушиваний в каждом городе\n",
    "moscow_count = df[df['city'] == 'Moscow']['genre'].count()\n",
    "spb_count = df[df['city'] == 'Saint-Petersburg']['genre'].count()\n",
    "print(moscow_count, spb_count)"
   ]
  },
  {
   "cell_type": "markdown",
   "metadata": {
    "id": "dzli3w8o_Zcu"
   },
   "source": [
    "В Москве прослушиваний больше, чем в Петербурге. Из этого не следует, что московские пользователи чаще слушают музыку. Просто самих пользователей в Москве больше.\n",
    "\n",
    "Теперь сгруппируем данные по дню недели и подсчитаем прослушивания в понедельник, среду и пятницу. Учтем, что в данных есть информация о прослушиваниях только за эти дни."
   ]
  },
  {
   "cell_type": "code",
   "execution_count": 20,
   "metadata": {
    "id": "uZMKjiJz_Zcu"
   },
   "outputs": [
    {
     "data": {
      "text/plain": [
       "day\n",
       "Friday       21840\n",
       "Monday       21354\n",
       "Wednesday    18059\n",
       "Name: day, dtype: int64"
      ]
     },
     "execution_count": 20,
     "metadata": {},
     "output_type": "execute_result"
    }
   ],
   "source": [
    "# Подсчёт прослушиваний в каждый из трёх дней\n",
    "df.groupby(by='day')['day'].count()"
   ]
  },
  {
   "cell_type": "markdown",
   "metadata": {
    "id": "cC2tNrlL_Zcu"
   },
   "source": [
    "В среднем пользователи из двух городов менее активны по средам. Но картина может измениться, если рассмотреть каждый город в отдельности."
   ]
  },
  {
   "cell_type": "code",
   "execution_count": 21,
   "metadata": {
    "id": "Nz3GdQB1_Zcu"
   },
   "outputs": [],
   "source": [
    "# Функция для подсчёта прослушиваний для конкретного города и дня.\n",
    "def number_tracks(day, city):\n",
    "    '''\n",
    "    Функция фильтрует данные данные по дню недели и городу, подсчитывая кол-во пользователей\n",
    "    '''\n",
    "    track_list = df[df['day'] == day]\n",
    "    track_list = track_list[track_list['city'] == city]\n",
    "    \n",
    "    # подсчет количества значений в колонке user_id. \n",
    "    track_list_count = track_list['user_id'].count()\n",
    "    \n",
    "    # выводим результат\n",
    "    return track_list_count"
   ]
  },
  {
   "cell_type": "markdown",
   "metadata": {
    "id": "ytf7xFrFJQ2r"
   },
   "source": [
    "Вызовем `number_tracks()` шесть раз, меняя значение параметров — так, чтобы получить данные для каждого города в каждый из трёх дней."
   ]
  },
  {
   "cell_type": "code",
   "execution_count": 22,
   "metadata": {
    "id": "rJcRATNQ_Zcu"
   },
   "outputs": [
    {
     "data": {
      "text/plain": [
       "15740"
      ]
     },
     "execution_count": 22,
     "metadata": {},
     "output_type": "execute_result"
    }
   ],
   "source": [
    "# количество прослушиваний в Москве по понедельникам\n",
    "number_tracks('Monday','Moscow')"
   ]
  },
  {
   "cell_type": "code",
   "execution_count": 23,
   "metadata": {
    "id": "hq_ncZ5T_Zcu"
   },
   "outputs": [
    {
     "data": {
      "text/plain": [
       "5614"
      ]
     },
     "execution_count": 23,
     "metadata": {},
     "output_type": "execute_result"
    }
   ],
   "source": [
    "# количество прослушиваний в Санкт-Петербурге по понедельникам\n",
    "number_tracks('Monday', 'Saint-Petersburg')"
   ]
  },
  {
   "cell_type": "code",
   "execution_count": 24,
   "metadata": {
    "id": "_NTy2VPU_Zcu"
   },
   "outputs": [
    {
     "data": {
      "text/plain": [
       "11056"
      ]
     },
     "execution_count": 24,
     "metadata": {},
     "output_type": "execute_result"
    }
   ],
   "source": [
    "# количество прослушиваний в Москве по средам\n",
    "number_tracks('Wednesday','Moscow')"
   ]
  },
  {
   "cell_type": "code",
   "execution_count": 25,
   "metadata": {
    "id": "j2y3TAwo_Zcu"
   },
   "outputs": [
    {
     "data": {
      "text/plain": [
       "7003"
      ]
     },
     "execution_count": 25,
     "metadata": {},
     "output_type": "execute_result"
    }
   ],
   "source": [
    "# количество прослушиваний в Санкт-Петербурге по средам\n",
    "number_tracks('Wednesday','Saint-Petersburg')"
   ]
  },
  {
   "cell_type": "code",
   "execution_count": 26,
   "metadata": {
    "id": "vYDw5u_K_Zcu"
   },
   "outputs": [
    {
     "data": {
      "text/plain": [
       "15945"
      ]
     },
     "execution_count": 26,
     "metadata": {},
     "output_type": "execute_result"
    }
   ],
   "source": [
    "# количество прослушиваний в Москве по пятницам\n",
    "number_tracks('Friday', 'Moscow')"
   ]
  },
  {
   "cell_type": "code",
   "execution_count": 27,
   "metadata": {
    "id": "8_yzFtW3_Zcu"
   },
   "outputs": [
    {
     "data": {
      "text/plain": [
       "5895"
      ]
     },
     "execution_count": 27,
     "metadata": {},
     "output_type": "execute_result"
    }
   ],
   "source": [
    "# количество прослушиваний в Санкт-Петербурге по пятницам\n",
    "number_tracks('Friday', 'Saint-Petersburg')"
   ]
  },
  {
   "cell_type": "markdown",
   "metadata": {
    "id": "7QXffbO-_Zcu"
   },
   "source": [
    "Создадим таблицу, где\n",
    "* названия колонок — `['city', 'monday', 'wednesday', 'friday']`;\n",
    "* данные — результаты, которые вы получили с помощью `number_tracks`."
   ]
  },
  {
   "cell_type": "code",
   "execution_count": 28,
   "metadata": {
    "id": "APAcLpOr_Zcu"
   },
   "outputs": [
    {
     "data": {
      "text/html": [
       "<div>\n",
       "<style scoped>\n",
       "    .dataframe tbody tr th:only-of-type {\n",
       "        vertical-align: middle;\n",
       "    }\n",
       "\n",
       "    .dataframe tbody tr th {\n",
       "        vertical-align: top;\n",
       "    }\n",
       "\n",
       "    .dataframe thead th {\n",
       "        text-align: right;\n",
       "    }\n",
       "</style>\n",
       "<table border=\"1\" class=\"dataframe\">\n",
       "  <thead>\n",
       "    <tr style=\"text-align: right;\">\n",
       "      <th></th>\n",
       "      <th>city</th>\n",
       "      <th>monday</th>\n",
       "      <th>wednesday</th>\n",
       "      <th>friday</th>\n",
       "    </tr>\n",
       "  </thead>\n",
       "  <tbody>\n",
       "    <tr>\n",
       "      <th>0</th>\n",
       "      <td>Moscow</td>\n",
       "      <td>15740</td>\n",
       "      <td>11056</td>\n",
       "      <td>15945</td>\n",
       "    </tr>\n",
       "    <tr>\n",
       "      <th>1</th>\n",
       "      <td>Saint-Petersburg</td>\n",
       "      <td>5614</td>\n",
       "      <td>7003</td>\n",
       "      <td>5895</td>\n",
       "    </tr>\n",
       "  </tbody>\n",
       "</table>\n",
       "</div>"
      ],
      "text/plain": [
       "               city  monday  wednesday  friday\n",
       "0            Moscow   15740      11056   15945\n",
       "1  Saint-Petersburg    5614       7003    5895"
      ]
     },
     "execution_count": 28,
     "metadata": {},
     "output_type": "execute_result"
    }
   ],
   "source": [
    "# Таблица с результатами\n",
    "data = [['Moscow', 15740, 11056, 15945,],\n",
    "     ['Saint-Petersburg', 5614, 7003, 5895]]\n",
    "columns = ['city', 'monday', 'wednesday', 'friday']\n",
    "pd.DataFrame(data = data, columns = columns)"
   ]
  },
  {
   "cell_type": "markdown",
   "metadata": {
    "id": "-EgPIHYu_Zcu"
   },
   "source": [
    "**Выводы**\n",
    "\n",
    "Данные показывают разницу поведения пользователей:\n",
    "\n",
    "- В Москве пик прослушиваний приходится на понедельник и пятницу, а в среду заметен спад.\n",
    "- В Петербурге, наоборот, больше слушают музыку по средам. Активность в понедельник и пятницу здесь почти в равной мере уступает среде.\n",
    "\n",
    "Значит, данные говорят в пользу первой гипотезы."
   ]
  },
  {
   "cell_type": "markdown",
   "metadata": {
    "id": "atZAxtq4_Zcu"
   },
   "source": [
    "### Музыка в начале и в конце недели"
   ]
  },
  {
   "cell_type": "markdown",
   "metadata": {
    "id": "eXrQqXFH_Zcu"
   },
   "source": [
    "Согласно второй гипотезе, утром в понедельник в Москве преобладают одни жанры, а в Петербурге — другие. Так же и вечером пятницы преобладают разные жанры — в зависимости от города."
   ]
  },
  {
   "cell_type": "markdown",
   "metadata": {
    "id": "S8UcW6Hw_Zcu"
   },
   "source": [
    "Сохраним таблицы с данными в две переменные:\n",
    "* по Москве — в `moscow_general`;\n",
    "* по Санкт-Петербургу — в `spb_general`."
   ]
  },
  {
   "cell_type": "code",
   "execution_count": 29,
   "metadata": {
    "id": "qeaFfM_P_Zcu"
   },
   "outputs": [],
   "source": [
    "# получение таблицы moscow_general из тех строк таблицы df, \n",
    "# для которых значение в столбце 'city' равно 'Moscow'\n",
    "moscow_general = df[df['city'] == 'Moscow']"
   ]
  },
  {
   "cell_type": "code",
   "execution_count": 30,
   "metadata": {
    "id": "ORaVRKto_Zcu"
   },
   "outputs": [],
   "source": [
    "# получение таблицы spb_general из тех строк таблицы df,\n",
    "# для которых значение в столбце 'city' равно 'Saint-Petersburg'\n",
    "spb_general = df[df['city'] == 'Saint-Petersburg']"
   ]
  },
  {
   "cell_type": "code",
   "execution_count": 31,
   "metadata": {
    "id": "laJT9BYl_Zcu"
   },
   "outputs": [],
   "source": [
    "def genre_weekday(table, day, time1, time2):\n",
    "    '''\n",
    "    Функция возвращает информацию о топ-10 жанров тех треков, \n",
    "    которые прослушивали в указанный день, в промежутке между двумя отметками времени.\n",
    "    '''\n",
    "    genre_df = table[table['day'] == day] #    - значение в столбце day равно значению аргумента day\n",
    "    genre_df = genre_df[genre_df['time'] > time1] #    - значение в столбце time больше значения аргумента time1\n",
    "    genre_df = genre_df[genre_df['time'] < time2] #    - значение в столбце time меньше значения аргумента time2\n",
    "\n",
    "    # сгруппировать датафрейм genre_df по столбцу genre с подсчетом строк\n",
    "    genre_df_count = genre_df.groupby('genre')['genre'].count()\n",
    "    \n",
    "    # отсортировать genre_df_count по убыванию встречаемости и сохранить\n",
    "    genre_df_sorted = genre_df_count.sort_values(ascending=False)\n",
    "    \n",
    "    # вернуть первые 10 значений\n",
    "    return genre_df_sorted.head(10)\n",
    "    "
   ]
  },
  {
   "cell_type": "markdown",
   "metadata": {
    "id": "la2s2_PF_Zcu"
   },
   "source": [
    "Cравним результаты функции `genre_weekday()` для Москвы и Санкт-Петербурга в понедельник утром (с 7:00 до 11:00) и в пятницу вечером (с 17:00 до 23:00):"
   ]
  },
  {
   "cell_type": "code",
   "execution_count": 32,
   "metadata": {
    "id": "yz7itPUQ_Zcu"
   },
   "outputs": [
    {
     "data": {
      "text/plain": [
       "genre\n",
       "pop            781\n",
       "dance          549\n",
       "electronic     480\n",
       "rock           474\n",
       "hiphop         286\n",
       "ruspop         186\n",
       "world          181\n",
       "rusrap         175\n",
       "alternative    164\n",
       "unknown        161\n",
       "Name: genre, dtype: int64"
      ]
     },
     "execution_count": 32,
     "metadata": {},
     "output_type": "execute_result"
    }
   ],
   "source": [
    "# вызов функции для утра понедельника в Москве \n",
    "genre_weekday(moscow_general,'Monday', '07:00', '11:00')"
   ]
  },
  {
   "cell_type": "code",
   "execution_count": 33,
   "metadata": {
    "id": "kwUcHPdy_Zcu"
   },
   "outputs": [
    {
     "data": {
      "text/plain": [
       "genre\n",
       "pop            218\n",
       "dance          182\n",
       "rock           162\n",
       "electronic     147\n",
       "hiphop          80\n",
       "ruspop          64\n",
       "alternative     58\n",
       "rusrap          55\n",
       "jazz            44\n",
       "classical       40\n",
       "Name: genre, dtype: int64"
      ]
     },
     "execution_count": 33,
     "metadata": {},
     "output_type": "execute_result"
    }
   ],
   "source": [
    "# вызов функции для утра понедельника в Петербурге\n",
    "genre_weekday(spb_general, 'Monday', '07:00', '11:00')"
   ]
  },
  {
   "cell_type": "code",
   "execution_count": 34,
   "metadata": {
    "id": "EzXVRE1o_Zcu"
   },
   "outputs": [
    {
     "data": {
      "text/plain": [
       "genre\n",
       "pop            713\n",
       "rock           517\n",
       "dance          495\n",
       "electronic     482\n",
       "hiphop         273\n",
       "world          208\n",
       "ruspop         170\n",
       "alternative    163\n",
       "classical      163\n",
       "rusrap         142\n",
       "Name: genre, dtype: int64"
      ]
     },
     "execution_count": 34,
     "metadata": {},
     "output_type": "execute_result"
    }
   ],
   "source": [
    "# вызов функции для вечера пятницы в Москве\n",
    "genre_weekday(moscow_general, 'Friday', '17:00', '23:00')"
   ]
  },
  {
   "cell_type": "code",
   "execution_count": 35,
   "metadata": {
    "id": "JZaEKu5v_Zcu"
   },
   "outputs": [
    {
     "data": {
      "text/plain": [
       "genre\n",
       "pop            256\n",
       "electronic     216\n",
       "rock           216\n",
       "dance          210\n",
       "hiphop          97\n",
       "alternative     63\n",
       "jazz            61\n",
       "classical       60\n",
       "rusrap          59\n",
       "world           54\n",
       "Name: genre, dtype: int64"
      ]
     },
     "execution_count": 35,
     "metadata": {},
     "output_type": "execute_result"
    }
   ],
   "source": [
    "# вызов функции для вечера пятницы в Петербурге\n",
    "genre_weekday(spb_general, 'Friday', '17:00', '23:00')"
   ]
  },
  {
   "cell_type": "markdown",
   "metadata": {
    "id": "wrCe4MNX_Zcu"
   },
   "source": [
    "**Выводы**\n",
    "\n",
    "Если сравнить топ-10 жанров в понедельник утром, можно сделать такие выводы:\n",
    "\n",
    "1. В Москве и Петербурге слушают похожую музыку (совпадают 1,2,5,6 и 8 строчка топ-10). Единственное отличие — в московский рейтинг вошёл жанр “world” (на 7-м месте), а в петербургский — джаз и классическая музыка (на 9-м и 10-м месте).\n",
    "\n",
    "2. Пропущенные значения `'unknown'` на 10-м месте среди самых популярных жанров в Москве. Значит, пропущенные значения занимают существенную долю в данных и угрожают достоверности исследования.\n",
    "\n",
    "Вечер пятницы не меняет эту картину. Некоторые жанры поднимаются немного выше, другие спускаются, но в целом топ-10 остаётся тем же самым, но не по рейтигу, совпадают в двух городах.\n",
    "\n",
    "Таким образом, вторая гипотеза подтвердилась лишь частично:\n",
    "* Пользователи слушают похожую музыку в начале недели и в конце.\n",
    "* Разница между Москвой и Петербургом не слишком выражена. В Москве чаще слушают музыку в жанре 'world' утром и русскую популярную музыку вечером, в Петербурге — джаз и классику утром, а вечером больше джаз.\n",
    "\n",
    "Но пропуски в данных ставят под сомнение этот результат. В топ-10 вошли категории с утерянными данными."
   ]
  },
  {
   "cell_type": "markdown",
   "metadata": {
    "id": "JolODAqr_Zcu"
   },
   "source": [
    "### Жанровые предпочтения в Москве и Петербурге\n",
    "\n",
    "Гипотеза: Петербург — столица рэпа, музыку этого жанра там слушают чаще, чем в Москве.  А Москва — город контрастов, в котором, тем не менее, преобладает поп-музыка."
   ]
  },
  {
   "cell_type": "markdown",
   "metadata": {
    "id": "DlegSvaT_Zcu"
   },
   "source": [
    "Сгруппируем таблицу `moscow_general` по жанру и посчитаем прослушивания треков каждого жанра. Затем отсортируем результат в порядке убывания."
   ]
  },
  {
   "cell_type": "code",
   "execution_count": 37,
   "metadata": {
    "id": "r19lIPke_Zcu"
   },
   "outputs": [
    {
     "data": {
      "text/plain": [
       "genre\n",
       "pop            5892\n",
       "dance          4435\n",
       "rock           3965\n",
       "electronic     3786\n",
       "hiphop         2096\n",
       "classical      1616\n",
       "world          1432\n",
       "alternative    1379\n",
       "ruspop         1372\n",
       "rusrap         1161\n",
       "Name: genre, dtype: int64"
      ]
     },
     "execution_count": 37,
     "metadata": {},
     "output_type": "execute_result"
    }
   ],
   "source": [
    "# группировка таблицы moscow_general по столбцу 'genre',\n",
    "# подсчёт числа значений 'genre' с сортировкой в порядке убывания \n",
    "moscow_genres = moscow_general.groupby('genre')['genre'].count().sort_values(ascending=False)\n",
    "# просмотр первых 10 строк moscow_genres\n",
    "moscow_genres.head(10)"
   ]
  },
  {
   "cell_type": "markdown",
   "metadata": {
    "id": "cnPG2vnN_Zcv"
   },
   "source": [
    "Теперь повторим то же и для Петербурга."
   ]
  },
  {
   "cell_type": "code",
   "execution_count": 39,
   "metadata": {
    "id": "gluLIpE7_Zcv"
   },
   "outputs": [
    {
     "data": {
      "text/plain": [
       "genre\n",
       "pop            2431\n",
       "dance          1932\n",
       "rock           1879\n",
       "electronic     1737\n",
       "hiphop          960\n",
       "alternative     649\n",
       "classical       646\n",
       "rusrap          564\n",
       "ruspop          538\n",
       "world           515\n",
       "Name: genre, dtype: int64"
      ]
     },
     "execution_count": 39,
     "metadata": {},
     "output_type": "execute_result"
    }
   ],
   "source": [
    "# группировка таблицы moscow_general по столбцу 'genre',\n",
    "# подсчёт числа значений 'genre' с сортировкой в порядке убывания \n",
    "spb_genres = spb_general.groupby('genre')['genre'].count().sort_values(ascending=False)\n",
    "# просмотр первых 10 строк spb_genres\n",
    "spb_genres.head(10)"
   ]
  },
  {
   "cell_type": "markdown",
   "metadata": {
    "id": "RY51YJYu_Zcv"
   },
   "source": [
    "**Выводы**"
   ]
  },
  {
   "cell_type": "markdown",
   "metadata": {
    "id": "nVhnJEm__Zcv"
   },
   "source": [
    "Гипотеза частично подтвердилась:\n",
    "* Поп-музыка — самый популярный жанр в Москве, как и предполагала гипотеза. Более того, в топ-10 жанров встречается близкий жанр — русская популярная музыка.\n",
    "* Вопреки ожиданиям, рэп почти одинаково популярен в Москве (на 10-м месте) и Петербурге (на 7-м месте). \n"
   ]
  },
  {
   "cell_type": "markdown",
   "metadata": {
    "id": "ykKQ0N65_Zcv"
   },
   "source": [
    "## Итоги исследования"
   ]
  },
  {
   "cell_type": "markdown",
   "metadata": {
    "id": "tjUwbHb3_Zcv"
   },
   "source": [
    "Мы проверили три гипотезы и установили:\n",
    "\n",
    "1. День недели по-разному влияет на активность пользователей в Москве и Петербурге. \n",
    "\n",
    "Первая гипотеза полностью подтвердилась.\n",
    "\n",
    "2. Музыкальные предпочтения не сильно меняются в течение недели — будь то Москва или Петербург. \n",
    "* в понедельник утром совпадают 1,2,5,6 и 8 строчка топ-10 полностью по рейтингу и составу.\n",
    "* в пятницу вечером в рейтиге происходят незначительные перемещения, но по составу практически без изменений.\n",
    "\n",
    "Небольшие различия в топ-10 заметны как в в начале недели, так и в конце:\n",
    "* в Москве чаще слушают музыку в жанре 'world' утром в понедельник и русскую популярную музыку в пятницу вечером.\n",
    "* в Петербурге — джаз и классику утром в понедельник, а вечером в пятницу больше джаз. \n",
    "\n",
    "Но пропуски в данных ставят под сомнение этот результат. В топ-10 вошли категории с утерянными данными.\n",
    "\n",
    "Таким образом, вторая гипотеза подтвердилась лишь отчасти.\n",
    "\n",
    "3. Во вкусах пользователей Москвы и Петербурга больше общего чем различий. Вопреки ожиданиям, предпочтения жанров в Петербурге напоминают московские.\n",
    "\n",
    "Третья гипотеза не подтвердилась. Если различия в предпочтениях и существуют, на основной массе пользователей они незаметны."
   ]
  }
 ],
 "metadata": {
  "ExecuteTimeLog": [
   {
    "duration": 405,
    "start_time": "2022-04-22T13:28:33.468Z"
   },
   {
    "duration": 172,
    "start_time": "2022-04-22T13:30:01.708Z"
   },
   {
    "duration": 19,
    "start_time": "2022-04-22T13:30:28.838Z"
   },
   {
    "duration": 154,
    "start_time": "2022-04-22T13:30:42.568Z"
   },
   {
    "duration": 165,
    "start_time": "2022-04-22T13:30:54.978Z"
   },
   {
    "duration": 30,
    "start_time": "2022-04-22T13:31:16.847Z"
   },
   {
    "duration": 4,
    "start_time": "2022-04-22T13:38:59.577Z"
   },
   {
    "duration": 4,
    "start_time": "2022-04-22T13:41:50.296Z"
   },
   {
    "duration": 15,
    "start_time": "2022-04-22T13:41:54.617Z"
   },
   {
    "duration": 4,
    "start_time": "2022-04-22T13:41:57.866Z"
   },
   {
    "duration": 24,
    "start_time": "2022-04-22T13:42:42.976Z"
   },
   {
    "duration": 34,
    "start_time": "2022-04-22T13:47:14.655Z"
   },
   {
    "duration": 34,
    "start_time": "2022-04-22T13:47:17.625Z"
   },
   {
    "duration": 36,
    "start_time": "2022-04-22T13:48:55.504Z"
   },
   {
    "duration": 26,
    "start_time": "2022-04-22T13:48:57.174Z"
   },
   {
    "duration": 25,
    "start_time": "2022-04-22T13:49:02.864Z"
   },
   {
    "duration": 34,
    "start_time": "2022-04-22T13:49:10.084Z"
   },
   {
    "duration": 33,
    "start_time": "2022-04-22T13:49:12.804Z"
   },
   {
    "duration": 31,
    "start_time": "2022-04-22T13:50:01.634Z"
   },
   {
    "duration": 29,
    "start_time": "2022-04-22T13:50:02.734Z"
   },
   {
    "duration": 24,
    "start_time": "2022-04-22T13:50:55.113Z"
   },
   {
    "duration": 26,
    "start_time": "2022-04-22T13:50:56.164Z"
   },
   {
    "duration": 28,
    "start_time": "2022-04-22T13:51:50.504Z"
   },
   {
    "duration": 120,
    "start_time": "2022-04-22T13:52:20.214Z"
   },
   {
    "duration": 94,
    "start_time": "2022-04-22T13:53:37.914Z"
   },
   {
    "duration": 106,
    "start_time": "2022-04-22T13:54:08.593Z"
   },
   {
    "duration": 69,
    "start_time": "2022-04-22T13:54:51.173Z"
   },
   {
    "duration": 57,
    "start_time": "2022-04-22T13:54:54.663Z"
   },
   {
    "duration": 67,
    "start_time": "2022-04-22T13:55:03.603Z"
   },
   {
    "duration": 59,
    "start_time": "2022-04-22T13:55:07.793Z"
   },
   {
    "duration": 55,
    "start_time": "2022-04-22T13:55:49.783Z"
   },
   {
    "duration": 64,
    "start_time": "2022-04-22T13:55:53.234Z"
   },
   {
    "duration": 64,
    "start_time": "2022-04-22T13:56:01.443Z"
   },
   {
    "duration": 2,
    "start_time": "2022-04-22T13:56:14.293Z"
   },
   {
    "duration": 179,
    "start_time": "2022-04-22T13:56:14.298Z"
   },
   {
    "duration": 12,
    "start_time": "2022-04-22T13:56:14.479Z"
   },
   {
    "duration": 40,
    "start_time": "2022-04-22T13:56:14.494Z"
   },
   {
    "duration": 4,
    "start_time": "2022-04-22T13:56:14.537Z"
   },
   {
    "duration": 9,
    "start_time": "2022-04-22T13:56:14.543Z"
   },
   {
    "duration": 4,
    "start_time": "2022-04-22T13:56:14.554Z"
   },
   {
    "duration": 30,
    "start_time": "2022-04-22T13:56:14.559Z"
   },
   {
    "duration": 49,
    "start_time": "2022-04-22T13:56:14.591Z"
   },
   {
    "duration": 27,
    "start_time": "2022-04-22T13:56:14.642Z"
   },
   {
    "duration": 93,
    "start_time": "2022-04-22T13:56:14.670Z"
   },
   {
    "duration": 87,
    "start_time": "2022-04-22T13:56:14.765Z"
   },
   {
    "duration": 69,
    "start_time": "2022-04-22T13:56:14.854Z"
   },
   {
    "duration": 11,
    "start_time": "2022-04-22T13:57:41.962Z"
   },
   {
    "duration": 9,
    "start_time": "2022-04-22T14:00:17.681Z"
   },
   {
    "duration": 10,
    "start_time": "2022-04-22T14:00:29.342Z"
   },
   {
    "duration": 6,
    "start_time": "2022-04-22T14:02:46.502Z"
   },
   {
    "duration": 6,
    "start_time": "2022-04-22T14:02:52.182Z"
   },
   {
    "duration": 9,
    "start_time": "2022-04-22T14:04:41.771Z"
   },
   {
    "duration": 8,
    "start_time": "2022-04-22T14:05:32.891Z"
   },
   {
    "duration": 49,
    "start_time": "2022-04-22T14:05:50.760Z"
   },
   {
    "duration": 51,
    "start_time": "2022-04-22T14:06:30.690Z"
   },
   {
    "duration": 50,
    "start_time": "2022-04-22T14:06:34.530Z"
   },
   {
    "duration": 49,
    "start_time": "2022-04-22T14:07:04.820Z"
   },
   {
    "duration": 49,
    "start_time": "2022-04-22T14:07:21.130Z"
   },
   {
    "duration": 3,
    "start_time": "2022-04-22T14:07:28.010Z"
   },
   {
    "duration": 177,
    "start_time": "2022-04-22T14:07:28.016Z"
   },
   {
    "duration": 12,
    "start_time": "2022-04-22T14:07:28.195Z"
   },
   {
    "duration": 41,
    "start_time": "2022-04-22T14:07:28.209Z"
   },
   {
    "duration": 6,
    "start_time": "2022-04-22T14:07:28.252Z"
   },
   {
    "duration": 20,
    "start_time": "2022-04-22T14:07:28.260Z"
   },
   {
    "duration": 4,
    "start_time": "2022-04-22T14:07:28.282Z"
   },
   {
    "duration": 44,
    "start_time": "2022-04-22T14:07:28.288Z"
   },
   {
    "duration": 21,
    "start_time": "2022-04-22T14:07:28.334Z"
   },
   {
    "duration": 36,
    "start_time": "2022-04-22T14:07:28.357Z"
   },
   {
    "duration": 71,
    "start_time": "2022-04-22T14:07:28.395Z"
   },
   {
    "duration": 75,
    "start_time": "2022-04-22T14:07:28.468Z"
   },
   {
    "duration": 55,
    "start_time": "2022-04-22T14:07:28.545Z"
   },
   {
    "duration": 59,
    "start_time": "2022-04-22T14:07:28.602Z"
   },
   {
    "duration": 54,
    "start_time": "2022-04-22T14:12:12.268Z"
   },
   {
    "duration": 7,
    "start_time": "2022-04-22T14:17:48.297Z"
   },
   {
    "duration": 2,
    "start_time": "2022-04-22T14:17:56.008Z"
   },
   {
    "duration": 158,
    "start_time": "2022-04-22T14:17:56.013Z"
   },
   {
    "duration": 10,
    "start_time": "2022-04-22T14:17:56.173Z"
   },
   {
    "duration": 48,
    "start_time": "2022-04-22T14:17:56.185Z"
   },
   {
    "duration": 5,
    "start_time": "2022-04-22T14:17:56.236Z"
   },
   {
    "duration": 12,
    "start_time": "2022-04-22T14:17:56.243Z"
   },
   {
    "duration": 12,
    "start_time": "2022-04-22T14:17:56.257Z"
   },
   {
    "duration": 37,
    "start_time": "2022-04-22T14:17:56.270Z"
   },
   {
    "duration": 36,
    "start_time": "2022-04-22T14:17:56.309Z"
   },
   {
    "duration": 23,
    "start_time": "2022-04-22T14:17:56.347Z"
   },
   {
    "duration": 74,
    "start_time": "2022-04-22T14:17:56.371Z"
   },
   {
    "duration": 67,
    "start_time": "2022-04-22T14:17:56.447Z"
   },
   {
    "duration": 56,
    "start_time": "2022-04-22T14:17:56.522Z"
   },
   {
    "duration": 60,
    "start_time": "2022-04-22T14:17:56.581Z"
   },
   {
    "duration": 3,
    "start_time": "2022-04-22T14:17:56.642Z"
   },
   {
    "duration": 32,
    "start_time": "2022-04-22T14:17:56.647Z"
   },
   {
    "duration": 50,
    "start_time": "2022-04-22T14:19:12.407Z"
   },
   {
    "duration": 2,
    "start_time": "2022-04-22T14:21:16.063Z"
   },
   {
    "duration": 177,
    "start_time": "2022-04-22T14:21:16.067Z"
   },
   {
    "duration": 12,
    "start_time": "2022-04-22T14:21:16.246Z"
   },
   {
    "duration": 43,
    "start_time": "2022-04-22T14:21:16.260Z"
   },
   {
    "duration": 5,
    "start_time": "2022-04-22T14:21:16.306Z"
   },
   {
    "duration": 10,
    "start_time": "2022-04-22T14:21:16.323Z"
   },
   {
    "duration": 5,
    "start_time": "2022-04-22T14:21:16.335Z"
   },
   {
    "duration": 29,
    "start_time": "2022-04-22T14:21:16.343Z"
   },
   {
    "duration": 57,
    "start_time": "2022-04-22T14:21:16.374Z"
   },
   {
    "duration": 28,
    "start_time": "2022-04-22T14:21:16.433Z"
   },
   {
    "duration": 89,
    "start_time": "2022-04-22T14:21:16.463Z"
   },
   {
    "duration": 83,
    "start_time": "2022-04-22T14:21:16.554Z"
   },
   {
    "duration": 61,
    "start_time": "2022-04-22T14:21:16.639Z"
   },
   {
    "duration": 63,
    "start_time": "2022-04-22T14:21:16.702Z"
   },
   {
    "duration": 3,
    "start_time": "2022-04-22T14:21:16.766Z"
   },
   {
    "duration": 13,
    "start_time": "2022-04-22T14:21:16.771Z"
   },
   {
    "duration": 50,
    "start_time": "2022-04-22T14:21:22.006Z"
   },
   {
    "duration": 16,
    "start_time": "2022-04-22T14:36:36.592Z"
   },
   {
    "duration": 23,
    "start_time": "2022-04-22T14:37:30.103Z"
   },
   {
    "duration": 25,
    "start_time": "2022-04-22T14:37:40.392Z"
   },
   {
    "duration": 47,
    "start_time": "2022-04-25T07:14:52.278Z"
   },
   {
    "duration": 541,
    "start_time": "2022-04-25T07:15:04.918Z"
   },
   {
    "duration": 173,
    "start_time": "2022-04-25T07:15:05.462Z"
   },
   {
    "duration": 40,
    "start_time": "2022-04-25T07:15:05.637Z"
   },
   {
    "duration": 76,
    "start_time": "2022-04-25T07:15:05.680Z"
   },
   {
    "duration": 7,
    "start_time": "2022-04-25T07:15:05.761Z"
   },
   {
    "duration": 14,
    "start_time": "2022-04-25T07:15:05.770Z"
   },
   {
    "duration": 9,
    "start_time": "2022-04-25T07:15:05.786Z"
   },
   {
    "duration": 29,
    "start_time": "2022-04-25T07:15:05.796Z"
   },
   {
    "duration": 46,
    "start_time": "2022-04-25T07:15:05.827Z"
   },
   {
    "duration": 25,
    "start_time": "2022-04-25T07:15:05.875Z"
   },
   {
    "duration": 132,
    "start_time": "2022-04-25T07:15:05.901Z"
   },
   {
    "duration": 93,
    "start_time": "2022-04-25T07:15:06.035Z"
   },
   {
    "duration": 61,
    "start_time": "2022-04-25T07:15:06.130Z"
   },
   {
    "duration": 97,
    "start_time": "2022-04-25T07:15:06.194Z"
   },
   {
    "duration": 3,
    "start_time": "2022-04-25T07:15:28.798Z"
   },
   {
    "duration": 149,
    "start_time": "2022-04-25T07:15:28.803Z"
   },
   {
    "duration": 10,
    "start_time": "2022-04-25T07:15:28.954Z"
   },
   {
    "duration": 36,
    "start_time": "2022-04-25T07:15:28.965Z"
   },
   {
    "duration": 4,
    "start_time": "2022-04-25T07:15:29.003Z"
   },
   {
    "duration": 12,
    "start_time": "2022-04-25T07:15:29.008Z"
   },
   {
    "duration": 4,
    "start_time": "2022-04-25T07:15:29.022Z"
   },
   {
    "duration": 47,
    "start_time": "2022-04-25T07:15:29.027Z"
   },
   {
    "duration": 18,
    "start_time": "2022-04-25T07:15:29.076Z"
   },
   {
    "duration": 23,
    "start_time": "2022-04-25T07:15:29.096Z"
   },
   {
    "duration": 76,
    "start_time": "2022-04-25T07:15:29.120Z"
   },
   {
    "duration": 72,
    "start_time": "2022-04-25T07:15:29.198Z"
   },
   {
    "duration": 54,
    "start_time": "2022-04-25T07:15:29.273Z"
   },
   {
    "duration": 63,
    "start_time": "2022-04-25T07:15:29.328Z"
   },
   {
    "duration": 3,
    "start_time": "2022-04-25T07:15:29.393Z"
   },
   {
    "duration": 14,
    "start_time": "2022-04-25T07:15:29.397Z"
   },
   {
    "duration": 66,
    "start_time": "2022-04-25T07:15:29.412Z"
   },
   {
    "duration": 25,
    "start_time": "2022-04-25T07:15:29.480Z"
   },
   {
    "duration": 2,
    "start_time": "2022-04-25T07:15:29.507Z"
   },
   {
    "duration": 4,
    "start_time": "2022-04-25T07:15:29.511Z"
   },
   {
    "duration": 5,
    "start_time": "2022-04-25T07:15:29.517Z"
   },
   {
    "duration": 5,
    "start_time": "2022-04-25T07:15:29.523Z"
   },
   {
    "duration": 25,
    "start_time": "2022-04-25T07:15:29.530Z"
   },
   {
    "duration": 9,
    "start_time": "2022-04-25T07:15:29.557Z"
   },
   {
    "duration": 11,
    "start_time": "2022-04-25T07:15:29.567Z"
   },
   {
    "duration": 26,
    "start_time": "2022-04-25T07:15:29.580Z"
   },
   {
    "duration": 5,
    "start_time": "2022-04-25T07:15:29.608Z"
   },
   {
    "duration": 8,
    "start_time": "2022-04-25T07:15:29.614Z"
   },
   {
    "duration": 18,
    "start_time": "2022-04-25T07:15:29.624Z"
   },
   {
    "duration": 20,
    "start_time": "2022-04-25T07:15:29.643Z"
   },
   {
    "duration": 19,
    "start_time": "2022-04-25T07:15:29.665Z"
   },
   {
    "duration": 7,
    "start_time": "2022-04-25T07:15:29.685Z"
   },
   {
    "duration": 8,
    "start_time": "2022-04-25T07:15:29.694Z"
   },
   {
    "duration": 10,
    "start_time": "2022-04-25T07:15:29.703Z"
   },
   {
    "duration": 6,
    "start_time": "2022-04-25T07:15:29.714Z"
   },
   {
    "duration": 5,
    "start_time": "2022-04-25T07:15:29.721Z"
   },
   {
    "duration": 3,
    "start_time": "2022-04-25T07:15:29.729Z"
   },
   {
    "duration": 6,
    "start_time": "2022-04-25T07:15:29.734Z"
   },
   {
    "duration": 23,
    "start_time": "2022-04-25T07:16:53.178Z"
   },
   {
    "duration": 205,
    "start_time": "2022-04-25T07:22:20.167Z"
   },
   {
    "duration": 29,
    "start_time": "2022-04-25T07:22:27.786Z"
   },
   {
    "duration": 2,
    "start_time": "2022-04-25T07:45:42.412Z"
   },
   {
    "duration": 154,
    "start_time": "2022-04-25T07:45:42.421Z"
   },
   {
    "duration": 10,
    "start_time": "2022-04-25T07:45:42.577Z"
   },
   {
    "duration": 41,
    "start_time": "2022-04-25T07:45:42.588Z"
   },
   {
    "duration": 18,
    "start_time": "2022-04-25T07:45:42.631Z"
   },
   {
    "duration": 26,
    "start_time": "2022-04-25T07:45:42.651Z"
   },
   {
    "duration": 15,
    "start_time": "2022-04-25T07:45:42.678Z"
   },
   {
    "duration": 33,
    "start_time": "2022-04-25T07:45:42.694Z"
   },
   {
    "duration": 34,
    "start_time": "2022-04-25T07:45:42.729Z"
   },
   {
    "duration": 45,
    "start_time": "2022-04-25T07:45:42.765Z"
   },
   {
    "duration": 80,
    "start_time": "2022-04-25T07:45:42.812Z"
   },
   {
    "duration": 69,
    "start_time": "2022-04-25T07:45:42.894Z"
   },
   {
    "duration": 56,
    "start_time": "2022-04-25T07:45:42.964Z"
   },
   {
    "duration": 65,
    "start_time": "2022-04-25T07:45:43.021Z"
   },
   {
    "duration": 5,
    "start_time": "2022-04-25T07:45:43.088Z"
   },
   {
    "duration": 42,
    "start_time": "2022-04-25T07:45:43.094Z"
   },
   {
    "duration": 56,
    "start_time": "2022-04-25T07:45:43.137Z"
   },
   {
    "duration": 35,
    "start_time": "2022-04-25T07:45:43.195Z"
   },
   {
    "duration": 56,
    "start_time": "2022-04-25T07:45:43.232Z"
   },
   {
    "duration": 5,
    "start_time": "2022-04-25T07:45:43.290Z"
   },
   {
    "duration": 27,
    "start_time": "2022-04-25T07:45:46.422Z"
   },
   {
    "duration": 7,
    "start_time": "2022-04-25T07:45:54.212Z"
   },
   {
    "duration": 2521,
    "start_time": "2022-04-25T07:46:10.752Z"
   },
   {
    "duration": 2,
    "start_time": "2022-04-25T07:48:09.941Z"
   },
   {
    "duration": 160,
    "start_time": "2022-04-25T07:48:09.945Z"
   },
   {
    "duration": 11,
    "start_time": "2022-04-25T07:48:10.108Z"
   },
   {
    "duration": 42,
    "start_time": "2022-04-25T07:48:10.120Z"
   },
   {
    "duration": 4,
    "start_time": "2022-04-25T07:48:10.164Z"
   },
   {
    "duration": 12,
    "start_time": "2022-04-25T07:48:10.169Z"
   },
   {
    "duration": 5,
    "start_time": "2022-04-25T07:48:10.183Z"
   },
   {
    "duration": 28,
    "start_time": "2022-04-25T07:48:10.190Z"
   },
   {
    "duration": 44,
    "start_time": "2022-04-25T07:48:10.219Z"
   },
   {
    "duration": 25,
    "start_time": "2022-04-25T07:48:10.265Z"
   },
   {
    "duration": 79,
    "start_time": "2022-04-25T07:48:10.293Z"
   },
   {
    "duration": 68,
    "start_time": "2022-04-25T07:48:10.373Z"
   },
   {
    "duration": 66,
    "start_time": "2022-04-25T07:48:10.443Z"
   },
   {
    "duration": 66,
    "start_time": "2022-04-25T07:48:10.510Z"
   },
   {
    "duration": 3,
    "start_time": "2022-04-25T07:48:10.577Z"
   },
   {
    "duration": 13,
    "start_time": "2022-04-25T07:48:10.582Z"
   },
   {
    "duration": 69,
    "start_time": "2022-04-25T07:48:10.596Z"
   },
   {
    "duration": 24,
    "start_time": "2022-04-25T07:48:10.667Z"
   },
   {
    "duration": 30,
    "start_time": "2022-04-25T07:48:10.692Z"
   },
   {
    "duration": 4,
    "start_time": "2022-04-25T07:48:10.723Z"
   },
   {
    "duration": 33,
    "start_time": "2022-04-25T07:48:10.728Z"
   },
   {
    "duration": 4,
    "start_time": "2022-04-25T07:48:10.763Z"
   },
   {
    "duration": 6,
    "start_time": "2022-04-25T07:48:10.769Z"
   },
   {
    "duration": 7,
    "start_time": "2022-04-25T07:48:10.776Z"
   },
   {
    "duration": 5,
    "start_time": "2022-04-25T07:48:10.784Z"
   },
   {
    "duration": 5,
    "start_time": "2022-04-25T07:48:10.790Z"
   },
   {
    "duration": 4,
    "start_time": "2022-04-25T07:48:10.797Z"
   },
   {
    "duration": 6,
    "start_time": "2022-04-25T07:48:10.803Z"
   },
   {
    "duration": 3,
    "start_time": "2022-04-25T07:48:10.814Z"
   },
   {
    "duration": 6,
    "start_time": "2022-04-25T07:48:10.819Z"
   },
   {
    "duration": 8,
    "start_time": "2022-04-25T07:48:10.827Z"
   },
   {
    "duration": 17,
    "start_time": "2022-04-25T07:48:10.837Z"
   },
   {
    "duration": 9,
    "start_time": "2022-04-25T07:48:10.856Z"
   },
   {
    "duration": 8,
    "start_time": "2022-04-25T07:48:10.867Z"
   },
   {
    "duration": 9,
    "start_time": "2022-04-25T07:48:10.877Z"
   },
   {
    "duration": 6,
    "start_time": "2022-04-25T07:48:10.887Z"
   },
   {
    "duration": 7,
    "start_time": "2022-04-25T07:48:10.894Z"
   },
   {
    "duration": 6,
    "start_time": "2022-04-25T07:48:10.903Z"
   },
   {
    "duration": 17,
    "start_time": "2022-04-25T07:48:50.871Z"
   },
   {
    "duration": 15,
    "start_time": "2022-04-25T07:53:32.661Z"
   },
   {
    "duration": 15,
    "start_time": "2022-04-25T07:57:34.729Z"
   },
   {
    "duration": 15,
    "start_time": "2022-04-25T07:58:31.319Z"
   },
   {
    "duration": 26,
    "start_time": "2022-04-25T08:14:29.026Z"
   },
   {
    "duration": 17,
    "start_time": "2022-04-25T08:15:08.035Z"
   },
   {
    "duration": 183,
    "start_time": "2022-04-25T08:22:03.663Z"
   },
   {
    "duration": 146,
    "start_time": "2022-04-25T08:22:41.393Z"
   },
   {
    "duration": 12,
    "start_time": "2022-04-25T08:22:47.373Z"
   },
   {
    "duration": 9,
    "start_time": "2022-04-25T08:23:29.493Z"
   },
   {
    "duration": 8,
    "start_time": "2022-04-25T08:23:44.833Z"
   },
   {
    "duration": 12,
    "start_time": "2022-04-25T08:29:41.491Z"
   },
   {
    "duration": 10,
    "start_time": "2022-04-25T08:29:44.281Z"
   },
   {
    "duration": 49,
    "start_time": "2022-04-25T11:11:25.748Z"
   },
   {
    "duration": 435,
    "start_time": "2022-04-25T11:11:35.148Z"
   },
   {
    "duration": 169,
    "start_time": "2022-04-25T11:11:35.585Z"
   },
   {
    "duration": 19,
    "start_time": "2022-04-25T11:11:35.756Z"
   },
   {
    "duration": 31,
    "start_time": "2022-04-25T11:11:35.778Z"
   },
   {
    "duration": 23,
    "start_time": "2022-04-25T11:11:35.811Z"
   },
   {
    "duration": 16,
    "start_time": "2022-04-25T11:11:35.836Z"
   },
   {
    "duration": 10,
    "start_time": "2022-04-25T11:11:35.853Z"
   },
   {
    "duration": 29,
    "start_time": "2022-04-25T11:11:35.864Z"
   },
   {
    "duration": 41,
    "start_time": "2022-04-25T11:11:35.895Z"
   },
   {
    "duration": 26,
    "start_time": "2022-04-25T11:11:35.939Z"
   },
   {
    "duration": 80,
    "start_time": "2022-04-25T11:11:35.966Z"
   },
   {
    "duration": 87,
    "start_time": "2022-04-25T11:11:36.048Z"
   },
   {
    "duration": 61,
    "start_time": "2022-04-25T11:11:36.137Z"
   },
   {
    "duration": 65,
    "start_time": "2022-04-25T11:11:36.200Z"
   },
   {
    "duration": 4,
    "start_time": "2022-04-25T11:11:36.266Z"
   },
   {
    "duration": 16,
    "start_time": "2022-04-25T11:11:36.271Z"
   },
   {
    "duration": 67,
    "start_time": "2022-04-25T11:11:36.289Z"
   },
   {
    "duration": 24,
    "start_time": "2022-04-25T11:11:36.357Z"
   },
   {
    "duration": 52,
    "start_time": "2022-04-25T11:11:36.382Z"
   },
   {
    "duration": 4,
    "start_time": "2022-04-25T11:11:36.436Z"
   },
   {
    "duration": 25,
    "start_time": "2022-04-25T11:11:36.441Z"
   },
   {
    "duration": 16,
    "start_time": "2022-04-25T11:11:36.467Z"
   },
   {
    "duration": 15,
    "start_time": "2022-04-25T11:11:36.485Z"
   },
   {
    "duration": 41,
    "start_time": "2022-04-25T11:11:36.502Z"
   },
   {
    "duration": 17,
    "start_time": "2022-04-25T11:11:36.545Z"
   },
   {
    "duration": 16,
    "start_time": "2022-04-25T11:11:36.564Z"
   },
   {
    "duration": 9,
    "start_time": "2022-04-25T11:11:36.581Z"
   },
   {
    "duration": 42,
    "start_time": "2022-04-25T11:11:36.593Z"
   },
   {
    "duration": 9,
    "start_time": "2022-04-25T11:11:36.638Z"
   },
   {
    "duration": 5,
    "start_time": "2022-04-25T11:11:36.648Z"
   },
   {
    "duration": 57,
    "start_time": "2022-04-25T11:11:36.654Z"
   },
   {
    "duration": 4,
    "start_time": "2022-04-25T11:11:56.338Z"
   },
   {
    "duration": 28,
    "start_time": "2022-04-25T11:11:58.097Z"
   },
   {
    "duration": 2,
    "start_time": "2022-04-25T11:13:23.678Z"
   },
   {
    "duration": 175,
    "start_time": "2022-04-25T11:13:23.682Z"
   },
   {
    "duration": 11,
    "start_time": "2022-04-25T11:13:23.859Z"
   },
   {
    "duration": 33,
    "start_time": "2022-04-25T11:13:23.872Z"
   },
   {
    "duration": 4,
    "start_time": "2022-04-25T11:13:23.906Z"
   },
   {
    "duration": 28,
    "start_time": "2022-04-25T11:13:23.912Z"
   },
   {
    "duration": 12,
    "start_time": "2022-04-25T11:13:23.942Z"
   },
   {
    "duration": 28,
    "start_time": "2022-04-25T11:13:23.956Z"
   },
   {
    "duration": 19,
    "start_time": "2022-04-25T11:13:23.987Z"
   },
   {
    "duration": 44,
    "start_time": "2022-04-25T11:13:24.008Z"
   },
   {
    "duration": 80,
    "start_time": "2022-04-25T11:13:24.054Z"
   },
   {
    "duration": 70,
    "start_time": "2022-04-25T11:13:24.136Z"
   },
   {
    "duration": 73,
    "start_time": "2022-04-25T11:13:24.208Z"
   },
   {
    "duration": 61,
    "start_time": "2022-04-25T11:13:24.282Z"
   },
   {
    "duration": 3,
    "start_time": "2022-04-25T11:13:24.344Z"
   },
   {
    "duration": 18,
    "start_time": "2022-04-25T11:13:24.349Z"
   },
   {
    "duration": 65,
    "start_time": "2022-04-25T11:13:24.369Z"
   },
   {
    "duration": 25,
    "start_time": "2022-04-25T11:13:24.436Z"
   },
   {
    "duration": 30,
    "start_time": "2022-04-25T11:13:24.462Z"
   },
   {
    "duration": 4,
    "start_time": "2022-04-25T11:13:24.494Z"
   },
   {
    "duration": 45,
    "start_time": "2022-04-25T11:13:24.499Z"
   },
   {
    "duration": 15,
    "start_time": "2022-04-25T11:13:24.546Z"
   },
   {
    "duration": 16,
    "start_time": "2022-04-25T11:13:24.563Z"
   },
   {
    "duration": 15,
    "start_time": "2022-04-25T11:13:24.582Z"
   },
   {
    "duration": 48,
    "start_time": "2022-04-25T11:13:24.598Z"
   },
   {
    "duration": 17,
    "start_time": "2022-04-25T11:13:24.647Z"
   },
   {
    "duration": 9,
    "start_time": "2022-04-25T11:13:24.665Z"
   },
   {
    "duration": 19,
    "start_time": "2022-04-25T11:13:24.676Z"
   },
   {
    "duration": 41,
    "start_time": "2022-04-25T11:13:24.696Z"
   },
   {
    "duration": 3,
    "start_time": "2022-04-25T11:14:02.754Z"
   },
   {
    "duration": 180,
    "start_time": "2022-04-25T11:14:02.759Z"
   },
   {
    "duration": 11,
    "start_time": "2022-04-25T11:14:02.941Z"
   },
   {
    "duration": 54,
    "start_time": "2022-04-25T11:14:02.954Z"
   },
   {
    "duration": 13,
    "start_time": "2022-04-25T11:14:03.011Z"
   },
   {
    "duration": 29,
    "start_time": "2022-04-25T11:14:03.026Z"
   },
   {
    "duration": 24,
    "start_time": "2022-04-25T11:14:03.057Z"
   },
   {
    "duration": 48,
    "start_time": "2022-04-25T11:14:03.083Z"
   },
   {
    "duration": 37,
    "start_time": "2022-04-25T11:14:03.133Z"
   },
   {
    "duration": 56,
    "start_time": "2022-04-25T11:14:03.173Z"
   },
   {
    "duration": 85,
    "start_time": "2022-04-25T11:14:03.231Z"
   },
   {
    "duration": 79,
    "start_time": "2022-04-25T11:14:03.318Z"
   },
   {
    "duration": 75,
    "start_time": "2022-04-25T11:14:03.399Z"
   },
   {
    "duration": 65,
    "start_time": "2022-04-25T11:14:03.478Z"
   },
   {
    "duration": 4,
    "start_time": "2022-04-25T11:14:03.545Z"
   },
   {
    "duration": 29,
    "start_time": "2022-04-25T11:14:03.551Z"
   },
   {
    "duration": 64,
    "start_time": "2022-04-25T11:14:03.582Z"
   },
   {
    "duration": 26,
    "start_time": "2022-04-25T11:14:03.649Z"
   },
   {
    "duration": 33,
    "start_time": "2022-04-25T11:14:03.677Z"
   },
   {
    "duration": 46,
    "start_time": "2022-04-25T11:14:03.712Z"
   },
   {
    "duration": 64,
    "start_time": "2022-04-25T11:14:03.760Z"
   },
   {
    "duration": 29,
    "start_time": "2022-04-25T11:14:03.826Z"
   },
   {
    "duration": 47,
    "start_time": "2022-04-25T11:14:03.857Z"
   },
   {
    "duration": 29,
    "start_time": "2022-04-25T11:14:03.906Z"
   },
   {
    "duration": 45,
    "start_time": "2022-04-25T11:14:03.938Z"
   },
   {
    "duration": 43,
    "start_time": "2022-04-25T11:14:03.985Z"
   },
   {
    "duration": 37,
    "start_time": "2022-04-25T11:14:04.030Z"
   },
   {
    "duration": 24,
    "start_time": "2022-04-25T11:14:04.069Z"
   },
   {
    "duration": 24,
    "start_time": "2022-04-25T11:14:04.095Z"
   },
   {
    "duration": 3,
    "start_time": "2022-04-25T11:14:21.438Z"
   },
   {
    "duration": 174,
    "start_time": "2022-04-25T11:14:21.443Z"
   },
   {
    "duration": 15,
    "start_time": "2022-04-25T11:14:21.619Z"
   },
   {
    "duration": 38,
    "start_time": "2022-04-25T11:14:21.637Z"
   },
   {
    "duration": 4,
    "start_time": "2022-04-25T11:14:21.677Z"
   },
   {
    "duration": 10,
    "start_time": "2022-04-25T11:14:21.683Z"
   },
   {
    "duration": 4,
    "start_time": "2022-04-25T11:14:21.695Z"
   },
   {
    "duration": 50,
    "start_time": "2022-04-25T11:14:21.701Z"
   },
   {
    "duration": 20,
    "start_time": "2022-04-25T11:14:21.754Z"
   },
   {
    "duration": 27,
    "start_time": "2022-04-25T11:14:21.777Z"
   },
   {
    "duration": 85,
    "start_time": "2022-04-25T11:14:21.805Z"
   },
   {
    "duration": 88,
    "start_time": "2022-04-25T11:14:21.892Z"
   },
   {
    "duration": 66,
    "start_time": "2022-04-25T11:14:21.982Z"
   },
   {
    "duration": 51,
    "start_time": "2022-04-25T11:14:22.050Z"
   },
   {
    "duration": 2,
    "start_time": "2022-04-25T11:14:22.103Z"
   },
   {
    "duration": 33,
    "start_time": "2022-04-25T11:14:22.107Z"
   },
   {
    "duration": 51,
    "start_time": "2022-04-25T11:14:22.141Z"
   },
   {
    "duration": 39,
    "start_time": "2022-04-25T11:14:22.194Z"
   },
   {
    "duration": 33,
    "start_time": "2022-04-25T11:14:22.235Z"
   },
   {
    "duration": 5,
    "start_time": "2022-04-25T11:14:22.269Z"
   },
   {
    "duration": 35,
    "start_time": "2022-04-25T11:14:22.275Z"
   },
   {
    "duration": 29,
    "start_time": "2022-04-25T11:14:22.312Z"
   },
   {
    "duration": 18,
    "start_time": "2022-04-25T11:14:22.343Z"
   },
   {
    "duration": 15,
    "start_time": "2022-04-25T11:14:22.364Z"
   },
   {
    "duration": 18,
    "start_time": "2022-04-25T11:14:22.381Z"
   },
   {
    "duration": 43,
    "start_time": "2022-04-25T11:14:22.401Z"
   },
   {
    "duration": 8,
    "start_time": "2022-04-25T11:14:22.446Z"
   },
   {
    "duration": 19,
    "start_time": "2022-04-25T11:14:22.456Z"
   },
   {
    "duration": 13,
    "start_time": "2022-04-25T11:14:22.477Z"
   },
   {
    "duration": 28,
    "start_time": "2022-04-25T11:14:40.987Z"
   },
   {
    "duration": 4,
    "start_time": "2022-04-25T11:15:12.408Z"
   },
   {
    "duration": 32,
    "start_time": "2022-04-25T11:15:13.626Z"
   },
   {
    "duration": 4,
    "start_time": "2022-04-25T11:15:36.197Z"
   },
   {
    "duration": 28,
    "start_time": "2022-04-25T11:15:36.946Z"
   },
   {
    "duration": 5,
    "start_time": "2022-04-25T11:19:40.096Z"
   },
   {
    "duration": 8336,
    "start_time": "2022-04-25T11:19:40.716Z"
   },
   {
    "duration": 5,
    "start_time": "2022-04-25T11:19:56.366Z"
   },
   {
    "duration": 2947,
    "start_time": "2022-04-25T11:19:57.066Z"
   },
   {
    "duration": 9,
    "start_time": "2022-04-25T11:20:27.216Z"
   },
   {
    "duration": 3751,
    "start_time": "2022-04-25T11:20:27.736Z"
   },
   {
    "duration": 4,
    "start_time": "2022-04-25T11:21:00.946Z"
   },
   {
    "duration": 30,
    "start_time": "2022-04-25T11:21:01.556Z"
   },
   {
    "duration": 4,
    "start_time": "2022-04-25T11:22:17.247Z"
   },
   {
    "duration": 28,
    "start_time": "2022-04-25T11:22:17.885Z"
   },
   {
    "duration": 4,
    "start_time": "2022-04-25T11:25:30.665Z"
   },
   {
    "duration": 25,
    "start_time": "2022-04-25T11:25:31.685Z"
   },
   {
    "duration": 25,
    "start_time": "2022-04-25T11:26:28.225Z"
   },
   {
    "duration": 4,
    "start_time": "2022-04-25T11:26:45.475Z"
   },
   {
    "duration": 27,
    "start_time": "2022-04-25T11:26:46.304Z"
   },
   {
    "duration": 27,
    "start_time": "2022-04-25T11:26:47.225Z"
   },
   {
    "duration": 28,
    "start_time": "2022-04-25T11:28:08.355Z"
   },
   {
    "duration": 22,
    "start_time": "2022-04-25T11:28:12.804Z"
   },
   {
    "duration": 24,
    "start_time": "2022-04-25T11:28:22.634Z"
   },
   {
    "duration": 20,
    "start_time": "2022-04-25T11:28:23.395Z"
   },
   {
    "duration": 5,
    "start_time": "2022-04-25T11:28:26.354Z"
   },
   {
    "duration": 26,
    "start_time": "2022-04-25T11:28:28.235Z"
   },
   {
    "duration": 25,
    "start_time": "2022-04-25T11:28:29.385Z"
   },
   {
    "duration": 4,
    "start_time": "2022-04-25T11:29:16.685Z"
   },
   {
    "duration": 23,
    "start_time": "2022-04-25T11:29:18.114Z"
   },
   {
    "duration": 15,
    "start_time": "2022-04-25T11:29:18.854Z"
   },
   {
    "duration": 13,
    "start_time": "2022-04-25T11:29:39.834Z"
   },
   {
    "duration": 11,
    "start_time": "2022-04-25T11:29:40.294Z"
   },
   {
    "duration": 4,
    "start_time": "2022-04-25T11:29:41.195Z"
   },
   {
    "duration": 22,
    "start_time": "2022-04-25T11:29:42.454Z"
   },
   {
    "duration": 15,
    "start_time": "2022-04-25T11:29:43.284Z"
   },
   {
    "duration": 19,
    "start_time": "2022-04-25T11:30:47.594Z"
   },
   {
    "duration": 13,
    "start_time": "2022-04-25T11:31:28.274Z"
   },
   {
    "duration": 5,
    "start_time": "2022-04-25T11:33:31.943Z"
   },
   {
    "duration": 21,
    "start_time": "2022-04-25T11:33:33.034Z"
   },
   {
    "duration": 13,
    "start_time": "2022-04-25T11:33:33.593Z"
   },
   {
    "duration": 19,
    "start_time": "2022-04-25T11:33:34.023Z"
   },
   {
    "duration": 12,
    "start_time": "2022-04-25T11:33:34.484Z"
   },
   {
    "duration": 4,
    "start_time": "2022-04-25T11:43:59.792Z"
   },
   {
    "duration": 21,
    "start_time": "2022-04-25T11:44:00.231Z"
   },
   {
    "duration": 14,
    "start_time": "2022-04-25T11:44:01.162Z"
   },
   {
    "duration": 20,
    "start_time": "2022-04-25T11:44:02.442Z"
   },
   {
    "duration": 12,
    "start_time": "2022-04-25T11:44:02.892Z"
   },
   {
    "duration": 3,
    "start_time": "2022-04-25T11:55:14.769Z"
   },
   {
    "duration": 178,
    "start_time": "2022-04-25T11:55:14.778Z"
   },
   {
    "duration": 12,
    "start_time": "2022-04-25T11:55:14.958Z"
   },
   {
    "duration": 42,
    "start_time": "2022-04-25T11:55:14.971Z"
   },
   {
    "duration": 20,
    "start_time": "2022-04-25T11:55:15.015Z"
   },
   {
    "duration": 15,
    "start_time": "2022-04-25T11:55:15.037Z"
   },
   {
    "duration": 13,
    "start_time": "2022-04-25T11:55:15.054Z"
   },
   {
    "duration": 48,
    "start_time": "2022-04-25T11:55:15.069Z"
   },
   {
    "duration": 28,
    "start_time": "2022-04-25T11:55:15.118Z"
   },
   {
    "duration": 30,
    "start_time": "2022-04-25T11:55:15.148Z"
   },
   {
    "duration": 86,
    "start_time": "2022-04-25T11:55:15.180Z"
   },
   {
    "duration": 96,
    "start_time": "2022-04-25T11:55:15.268Z"
   },
   {
    "duration": 73,
    "start_time": "2022-04-25T11:55:15.366Z"
   },
   {
    "duration": 65,
    "start_time": "2022-04-25T11:55:15.441Z"
   },
   {
    "duration": 3,
    "start_time": "2022-04-25T11:55:15.511Z"
   },
   {
    "duration": 27,
    "start_time": "2022-04-25T11:55:15.516Z"
   },
   {
    "duration": 53,
    "start_time": "2022-04-25T11:55:15.545Z"
   },
   {
    "duration": 51,
    "start_time": "2022-04-25T11:55:15.600Z"
   },
   {
    "duration": 46,
    "start_time": "2022-04-25T11:55:15.653Z"
   },
   {
    "duration": 4,
    "start_time": "2022-04-25T11:55:15.701Z"
   },
   {
    "duration": 39,
    "start_time": "2022-04-25T11:55:15.707Z"
   },
   {
    "duration": 17,
    "start_time": "2022-04-25T11:55:15.748Z"
   },
   {
    "duration": 23,
    "start_time": "2022-04-25T11:55:15.767Z"
   },
   {
    "duration": 16,
    "start_time": "2022-04-25T11:55:15.791Z"
   },
   {
    "duration": 39,
    "start_time": "2022-04-25T11:55:15.809Z"
   },
   {
    "duration": 17,
    "start_time": "2022-04-25T11:55:15.850Z"
   },
   {
    "duration": 9,
    "start_time": "2022-04-25T11:55:15.869Z"
   },
   {
    "duration": 29,
    "start_time": "2022-04-25T11:55:15.880Z"
   },
   {
    "duration": 29,
    "start_time": "2022-04-25T11:55:15.911Z"
   },
   {
    "duration": 5,
    "start_time": "2022-04-25T11:55:15.942Z"
   },
   {
    "duration": 31,
    "start_time": "2022-04-25T11:55:15.949Z"
   },
   {
    "duration": 15,
    "start_time": "2022-04-25T11:55:15.982Z"
   },
   {
    "duration": 51,
    "start_time": "2022-04-25T11:55:15.999Z"
   },
   {
    "duration": 14,
    "start_time": "2022-04-25T11:55:16.051Z"
   },
   {
    "duration": 2,
    "start_time": "2022-04-25T11:55:16.067Z"
   },
   {
    "duration": 9,
    "start_time": "2022-04-25T11:55:16.070Z"
   },
   {
    "duration": 5,
    "start_time": "2022-04-25T11:55:16.081Z"
   },
   {
    "duration": 7,
    "start_time": "2022-04-25T11:55:16.088Z"
   },
   {
    "duration": 3,
    "start_time": "2022-04-25T11:55:41.020Z"
   },
   {
    "duration": 179,
    "start_time": "2022-04-25T11:55:41.025Z"
   },
   {
    "duration": 11,
    "start_time": "2022-04-25T11:55:41.205Z"
   },
   {
    "duration": 45,
    "start_time": "2022-04-25T11:55:41.218Z"
   },
   {
    "duration": 4,
    "start_time": "2022-04-25T11:55:41.265Z"
   },
   {
    "duration": 13,
    "start_time": "2022-04-25T11:55:41.270Z"
   },
   {
    "duration": 4,
    "start_time": "2022-04-25T11:55:41.284Z"
   },
   {
    "duration": 54,
    "start_time": "2022-04-25T11:55:41.289Z"
   },
   {
    "duration": 21,
    "start_time": "2022-04-25T11:55:41.345Z"
   },
   {
    "duration": 29,
    "start_time": "2022-04-25T11:55:41.367Z"
   },
   {
    "duration": 94,
    "start_time": "2022-04-25T11:55:41.398Z"
   },
   {
    "duration": 88,
    "start_time": "2022-04-25T11:55:41.494Z"
   },
   {
    "duration": 76,
    "start_time": "2022-04-25T11:55:41.585Z"
   },
   {
    "duration": 53,
    "start_time": "2022-04-25T11:55:41.663Z"
   },
   {
    "duration": 15,
    "start_time": "2022-04-25T11:55:41.718Z"
   },
   {
    "duration": 12,
    "start_time": "2022-04-25T11:55:41.735Z"
   },
   {
    "duration": 53,
    "start_time": "2022-04-25T11:55:41.749Z"
   },
   {
    "duration": 46,
    "start_time": "2022-04-25T11:55:41.804Z"
   },
   {
    "duration": 31,
    "start_time": "2022-04-25T11:55:41.852Z"
   },
   {
    "duration": 4,
    "start_time": "2022-04-25T11:55:41.885Z"
   },
   {
    "duration": 45,
    "start_time": "2022-04-25T11:55:41.891Z"
   },
   {
    "duration": 18,
    "start_time": "2022-04-25T11:55:41.938Z"
   },
   {
    "duration": 21,
    "start_time": "2022-04-25T11:55:41.958Z"
   },
   {
    "duration": 15,
    "start_time": "2022-04-25T11:55:41.981Z"
   },
   {
    "duration": 44,
    "start_time": "2022-04-25T11:55:41.998Z"
   },
   {
    "duration": 17,
    "start_time": "2022-04-25T11:55:42.044Z"
   },
   {
    "duration": 9,
    "start_time": "2022-04-25T11:55:42.063Z"
   },
   {
    "duration": 19,
    "start_time": "2022-04-25T11:55:42.074Z"
   },
   {
    "duration": 43,
    "start_time": "2022-04-25T11:55:42.095Z"
   },
   {
    "duration": 5,
    "start_time": "2022-04-25T11:55:42.140Z"
   },
   {
    "duration": 30,
    "start_time": "2022-04-25T11:55:42.147Z"
   },
   {
    "duration": 14,
    "start_time": "2022-04-25T11:55:42.178Z"
   },
   {
    "duration": 40,
    "start_time": "2022-04-25T11:55:42.194Z"
   },
   {
    "duration": 12,
    "start_time": "2022-04-25T11:55:42.236Z"
   },
   {
    "duration": 2,
    "start_time": "2022-04-25T11:55:42.250Z"
   },
   {
    "duration": 7,
    "start_time": "2022-04-25T11:55:42.253Z"
   },
   {
    "duration": 7,
    "start_time": "2022-04-25T11:55:42.263Z"
   },
   {
    "duration": 5,
    "start_time": "2022-04-25T11:55:42.272Z"
   },
   {
    "duration": 11,
    "start_time": "2022-04-25T12:03:48.617Z"
   },
   {
    "duration": 5,
    "start_time": "2022-04-25T12:04:13.167Z"
   },
   {
    "duration": 7,
    "start_time": "2022-04-25T12:05:17.849Z"
   },
   {
    "duration": 2,
    "start_time": "2022-04-25T12:05:22.327Z"
   },
   {
    "duration": 194,
    "start_time": "2022-04-25T12:05:22.331Z"
   },
   {
    "duration": 16,
    "start_time": "2022-04-25T12:05:22.527Z"
   },
   {
    "duration": 39,
    "start_time": "2022-04-25T12:05:22.546Z"
   },
   {
    "duration": 4,
    "start_time": "2022-04-25T12:05:22.588Z"
   },
   {
    "duration": 17,
    "start_time": "2022-04-25T12:05:22.593Z"
   },
   {
    "duration": 29,
    "start_time": "2022-04-25T12:05:22.612Z"
   },
   {
    "duration": 34,
    "start_time": "2022-04-25T12:05:22.644Z"
   },
   {
    "duration": 19,
    "start_time": "2022-04-25T12:05:22.680Z"
   },
   {
    "duration": 52,
    "start_time": "2022-04-25T12:05:22.701Z"
   },
   {
    "duration": 79,
    "start_time": "2022-04-25T12:05:22.756Z"
   },
   {
    "duration": 93,
    "start_time": "2022-04-25T12:05:22.842Z"
   },
   {
    "duration": 72,
    "start_time": "2022-04-25T12:05:22.938Z"
   },
   {
    "duration": 76,
    "start_time": "2022-04-25T12:05:23.011Z"
   },
   {
    "duration": 3,
    "start_time": "2022-04-25T12:05:23.089Z"
   },
   {
    "duration": 16,
    "start_time": "2022-04-25T12:05:23.094Z"
   },
   {
    "duration": 73,
    "start_time": "2022-04-25T12:05:23.112Z"
   },
   {
    "duration": 26,
    "start_time": "2022-04-25T12:05:23.187Z"
   },
   {
    "duration": 57,
    "start_time": "2022-04-25T12:05:23.214Z"
   },
   {
    "duration": 4,
    "start_time": "2022-04-25T12:05:23.273Z"
   },
   {
    "duration": 27,
    "start_time": "2022-04-25T12:05:23.278Z"
   },
   {
    "duration": 43,
    "start_time": "2022-04-25T12:05:23.306Z"
   },
   {
    "duration": 16,
    "start_time": "2022-04-25T12:05:23.351Z"
   },
   {
    "duration": 26,
    "start_time": "2022-04-25T12:05:23.368Z"
   },
   {
    "duration": 18,
    "start_time": "2022-04-25T12:05:23.396Z"
   },
   {
    "duration": 34,
    "start_time": "2022-04-25T12:05:23.416Z"
   },
   {
    "duration": 9,
    "start_time": "2022-04-25T12:05:23.452Z"
   },
   {
    "duration": 23,
    "start_time": "2022-04-25T12:05:23.462Z"
   },
   {
    "duration": 13,
    "start_time": "2022-04-25T12:05:23.489Z"
   },
   {
    "duration": 4,
    "start_time": "2022-04-25T12:05:23.504Z"
   },
   {
    "duration": 53,
    "start_time": "2022-04-25T12:05:23.509Z"
   },
   {
    "duration": 13,
    "start_time": "2022-04-25T12:05:23.563Z"
   },
   {
    "duration": 17,
    "start_time": "2022-04-25T12:05:23.578Z"
   },
   {
    "duration": 47,
    "start_time": "2022-04-25T12:05:23.597Z"
   },
   {
    "duration": 15,
    "start_time": "2022-04-25T12:05:23.646Z"
   },
   {
    "duration": 6,
    "start_time": "2022-04-25T12:05:23.663Z"
   },
   {
    "duration": 11,
    "start_time": "2022-04-25T12:05:23.671Z"
   },
   {
    "duration": 9,
    "start_time": "2022-04-25T12:05:23.684Z"
   },
   {
    "duration": 606,
    "start_time": "2022-05-01T07:11:30.323Z"
   },
   {
    "duration": 238,
    "start_time": "2022-05-01T07:11:30.932Z"
   },
   {
    "duration": 26,
    "start_time": "2022-05-01T07:11:31.173Z"
   },
   {
    "duration": 69,
    "start_time": "2022-05-01T07:11:31.201Z"
   },
   {
    "duration": 13,
    "start_time": "2022-05-01T07:11:31.273Z"
   },
   {
    "duration": 44,
    "start_time": "2022-05-01T07:11:31.288Z"
   },
   {
    "duration": 41,
    "start_time": "2022-05-01T07:11:31.334Z"
   },
   {
    "duration": 71,
    "start_time": "2022-05-01T07:11:31.378Z"
   },
   {
    "duration": 45,
    "start_time": "2022-05-01T07:11:31.451Z"
   },
   {
    "duration": 55,
    "start_time": "2022-05-01T07:11:31.497Z"
   },
   {
    "duration": 89,
    "start_time": "2022-05-01T07:11:31.554Z"
   },
   {
    "duration": 81,
    "start_time": "2022-05-01T07:11:31.645Z"
   },
   {
    "duration": 61,
    "start_time": "2022-05-01T07:11:31.727Z"
   },
   {
    "duration": 50,
    "start_time": "2022-05-01T07:11:31.792Z"
   },
   {
    "duration": 3,
    "start_time": "2022-05-01T07:11:31.855Z"
   },
   {
    "duration": 28,
    "start_time": "2022-05-01T07:11:31.860Z"
   },
   {
    "duration": 78,
    "start_time": "2022-05-01T07:11:31.890Z"
   },
   {
    "duration": 25,
    "start_time": "2022-05-01T07:11:31.970Z"
   },
   {
    "duration": 32,
    "start_time": "2022-05-01T07:11:31.997Z"
   },
   {
    "duration": 23,
    "start_time": "2022-05-01T07:11:32.031Z"
   },
   {
    "duration": 59,
    "start_time": "2022-05-01T07:11:32.056Z"
   },
   {
    "duration": 28,
    "start_time": "2022-05-01T07:11:32.117Z"
   },
   {
    "duration": 45,
    "start_time": "2022-05-01T07:11:32.146Z"
   },
   {
    "duration": 25,
    "start_time": "2022-05-01T07:11:32.192Z"
   },
   {
    "duration": 33,
    "start_time": "2022-05-01T07:11:32.219Z"
   },
   {
    "duration": 33,
    "start_time": "2022-05-01T07:11:32.254Z"
   },
   {
    "duration": 23,
    "start_time": "2022-05-01T07:11:32.289Z"
   },
   {
    "duration": 44,
    "start_time": "2022-05-01T07:11:32.315Z"
   },
   {
    "duration": 29,
    "start_time": "2022-05-01T07:11:32.362Z"
   },
   {
    "duration": 12,
    "start_time": "2022-05-01T07:11:32.394Z"
   },
   {
    "duration": 56,
    "start_time": "2022-05-01T07:11:32.408Z"
   },
   {
    "duration": 25,
    "start_time": "2022-05-01T07:11:32.466Z"
   },
   {
    "duration": 29,
    "start_time": "2022-05-01T07:11:32.493Z"
   },
   {
    "duration": 25,
    "start_time": "2022-05-01T07:11:32.524Z"
   },
   {
    "duration": 24,
    "start_time": "2022-05-01T07:11:32.550Z"
   },
   {
    "duration": 36,
    "start_time": "2022-05-01T07:11:32.576Z"
   },
   {
    "duration": 37,
    "start_time": "2022-05-01T07:11:32.613Z"
   },
   {
    "duration": 14,
    "start_time": "2022-05-01T07:11:32.651Z"
   },
   {
    "duration": 7,
    "start_time": "2022-05-01T07:13:08.692Z"
   },
   {
    "duration": 5,
    "start_time": "2022-05-01T07:13:11.419Z"
   },
   {
    "duration": 20,
    "start_time": "2022-05-01T07:13:12.899Z"
   },
   {
    "duration": 4,
    "start_time": "2022-05-01T07:13:34.902Z"
   },
   {
    "duration": 30,
    "start_time": "2022-05-01T07:13:35.824Z"
   },
   {
    "duration": 459,
    "start_time": "2022-05-02T09:30:05.700Z"
   },
   {
    "duration": 157,
    "start_time": "2022-05-02T09:30:06.161Z"
   },
   {
    "duration": 28,
    "start_time": "2022-05-02T09:30:06.320Z"
   },
   {
    "duration": 49,
    "start_time": "2022-05-02T09:30:06.351Z"
   },
   {
    "duration": 5,
    "start_time": "2022-05-02T09:30:06.402Z"
   },
   {
    "duration": 13,
    "start_time": "2022-05-02T09:30:06.409Z"
   },
   {
    "duration": 29,
    "start_time": "2022-05-02T09:30:06.432Z"
   },
   {
    "duration": 24,
    "start_time": "2022-05-02T09:30:06.463Z"
   },
   {
    "duration": 17,
    "start_time": "2022-05-02T09:30:06.489Z"
   },
   {
    "duration": 21,
    "start_time": "2022-05-02T09:30:06.508Z"
   },
   {
    "duration": 101,
    "start_time": "2022-05-02T09:30:06.531Z"
   },
   {
    "duration": 120,
    "start_time": "2022-05-02T09:30:06.635Z"
   },
   {
    "duration": 77,
    "start_time": "2022-05-02T09:30:06.757Z"
   },
   {
    "duration": 60,
    "start_time": "2022-05-02T09:30:06.839Z"
   },
   {
    "duration": 4,
    "start_time": "2022-05-02T09:30:06.901Z"
   },
   {
    "duration": 31,
    "start_time": "2022-05-02T09:30:06.907Z"
   },
   {
    "duration": 74,
    "start_time": "2022-05-02T09:30:06.940Z"
   },
   {
    "duration": 40,
    "start_time": "2022-05-02T09:30:07.016Z"
   },
   {
    "duration": 44,
    "start_time": "2022-05-02T09:30:07.060Z"
   },
   {
    "duration": 4,
    "start_time": "2022-05-02T09:30:07.106Z"
   },
   {
    "duration": 33,
    "start_time": "2022-05-02T09:30:07.123Z"
   },
   {
    "duration": 19,
    "start_time": "2022-05-02T09:30:07.158Z"
   },
   {
    "duration": 20,
    "start_time": "2022-05-02T09:30:07.179Z"
   },
   {
    "duration": 39,
    "start_time": "2022-05-02T09:30:07.201Z"
   },
   {
    "duration": 27,
    "start_time": "2022-05-02T09:30:07.242Z"
   },
   {
    "duration": 16,
    "start_time": "2022-05-02T09:30:07.272Z"
   },
   {
    "duration": 10,
    "start_time": "2022-05-02T09:30:07.289Z"
   },
   {
    "duration": 21,
    "start_time": "2022-05-02T09:30:07.341Z"
   },
   {
    "duration": 13,
    "start_time": "2022-05-02T09:30:07.364Z"
   },
   {
    "duration": 4,
    "start_time": "2022-05-02T09:30:07.379Z"
   },
   {
    "duration": 36,
    "start_time": "2022-05-02T09:30:07.385Z"
   },
   {
    "duration": 28,
    "start_time": "2022-05-02T09:30:07.425Z"
   },
   {
    "duration": 25,
    "start_time": "2022-05-02T09:30:07.455Z"
   },
   {
    "duration": 11,
    "start_time": "2022-05-02T09:30:07.481Z"
   },
   {
    "duration": 8,
    "start_time": "2022-05-02T09:30:07.493Z"
   },
   {
    "duration": 6,
    "start_time": "2022-05-02T09:30:07.502Z"
   },
   {
    "duration": 12,
    "start_time": "2022-05-02T09:30:07.525Z"
   },
   {
    "duration": 27,
    "start_time": "2022-05-02T09:30:07.539Z"
   },
   {
    "duration": 387,
    "start_time": "2022-05-02T09:35:22.365Z"
   },
   {
    "duration": 151,
    "start_time": "2022-05-02T09:35:22.754Z"
   },
   {
    "duration": 22,
    "start_time": "2022-05-02T09:35:22.906Z"
   },
   {
    "duration": 43,
    "start_time": "2022-05-02T09:35:22.930Z"
   },
   {
    "duration": 4,
    "start_time": "2022-05-02T09:35:22.976Z"
   },
   {
    "duration": 44,
    "start_time": "2022-05-02T09:35:22.982Z"
   },
   {
    "duration": 20,
    "start_time": "2022-05-02T09:35:23.028Z"
   },
   {
    "duration": 23,
    "start_time": "2022-05-02T09:35:23.050Z"
   },
   {
    "duration": 18,
    "start_time": "2022-05-02T09:35:23.075Z"
   },
   {
    "duration": 55,
    "start_time": "2022-05-02T09:35:23.094Z"
   },
   {
    "duration": 82,
    "start_time": "2022-05-02T09:35:23.151Z"
   },
   {
    "duration": 115,
    "start_time": "2022-05-02T09:35:23.236Z"
   },
   {
    "duration": 93,
    "start_time": "2022-05-02T09:35:23.353Z"
   },
   {
    "duration": 49,
    "start_time": "2022-05-02T09:35:23.451Z"
   },
   {
    "duration": 3,
    "start_time": "2022-05-02T09:35:23.502Z"
   },
   {
    "duration": 33,
    "start_time": "2022-05-02T09:35:23.507Z"
   },
   {
    "duration": 49,
    "start_time": "2022-05-02T09:35:23.542Z"
   },
   {
    "duration": 51,
    "start_time": "2022-05-02T09:35:23.593Z"
   },
   {
    "duration": 28,
    "start_time": "2022-05-02T09:35:23.646Z"
   },
   {
    "duration": 4,
    "start_time": "2022-05-02T09:35:23.676Z"
   },
   {
    "duration": 47,
    "start_time": "2022-05-02T09:35:23.681Z"
   },
   {
    "duration": 20,
    "start_time": "2022-05-02T09:35:23.731Z"
   },
   {
    "duration": 17,
    "start_time": "2022-05-02T09:35:23.752Z"
   },
   {
    "duration": 13,
    "start_time": "2022-05-02T09:35:23.771Z"
   },
   {
    "duration": 54,
    "start_time": "2022-05-02T09:35:23.785Z"
   },
   {
    "duration": 18,
    "start_time": "2022-05-02T09:35:23.841Z"
   },
   {
    "duration": 10,
    "start_time": "2022-05-02T09:35:23.860Z"
   },
   {
    "duration": 15,
    "start_time": "2022-05-02T09:35:23.872Z"
   },
   {
    "duration": 41,
    "start_time": "2022-05-02T09:35:23.889Z"
   },
   {
    "duration": 5,
    "start_time": "2022-05-02T09:35:23.933Z"
   },
   {
    "duration": 32,
    "start_time": "2022-05-02T09:35:23.940Z"
   },
   {
    "duration": 15,
    "start_time": "2022-05-02T09:35:23.974Z"
   },
   {
    "duration": 51,
    "start_time": "2022-05-02T09:35:23.990Z"
   },
   {
    "duration": 14,
    "start_time": "2022-05-02T09:35:24.043Z"
   },
   {
    "duration": 10,
    "start_time": "2022-05-02T09:35:24.059Z"
   },
   {
    "duration": 7,
    "start_time": "2022-05-02T09:35:24.070Z"
   },
   {
    "duration": 8,
    "start_time": "2022-05-02T09:35:24.079Z"
   },
   {
    "duration": 35,
    "start_time": "2022-05-02T09:35:24.088Z"
   },
   {
    "duration": 51,
    "start_time": "2022-05-02T09:40:26.970Z"
   },
   {
    "duration": 55,
    "start_time": "2022-05-02T09:40:52.850Z"
   },
   {
    "duration": 19,
    "start_time": "2022-05-02T09:41:02.521Z"
   },
   {
    "duration": 2,
    "start_time": "2022-05-02T10:07:02.966Z"
   },
   {
    "duration": 138,
    "start_time": "2022-05-02T10:07:02.970Z"
   },
   {
    "duration": 19,
    "start_time": "2022-05-02T10:07:03.110Z"
   },
   {
    "duration": 29,
    "start_time": "2022-05-02T10:07:03.131Z"
   },
   {
    "duration": 4,
    "start_time": "2022-05-02T10:07:03.163Z"
   },
   {
    "duration": 8,
    "start_time": "2022-05-02T10:07:03.169Z"
   },
   {
    "duration": 45,
    "start_time": "2022-05-02T10:07:03.179Z"
   },
   {
    "duration": 36,
    "start_time": "2022-05-02T10:07:03.226Z"
   },
   {
    "duration": 23,
    "start_time": "2022-05-02T10:07:03.265Z"
   },
   {
    "duration": 55,
    "start_time": "2022-05-02T10:07:03.290Z"
   },
   {
    "duration": 103,
    "start_time": "2022-05-02T10:07:03.348Z"
   },
   {
    "duration": 109,
    "start_time": "2022-05-02T10:07:03.453Z"
   },
   {
    "duration": 87,
    "start_time": "2022-05-02T10:07:03.564Z"
   },
   {
    "duration": 84,
    "start_time": "2022-05-02T10:07:03.653Z"
   },
   {
    "duration": 4,
    "start_time": "2022-05-02T10:07:03.738Z"
   },
   {
    "duration": 20,
    "start_time": "2022-05-02T10:07:03.743Z"
   },
   {
    "duration": 91,
    "start_time": "2022-05-02T10:07:03.765Z"
   },
   {
    "duration": 31,
    "start_time": "2022-05-02T10:07:03.858Z"
   },
   {
    "duration": 40,
    "start_time": "2022-05-02T10:07:03.891Z"
   },
   {
    "duration": 5,
    "start_time": "2022-05-02T10:07:03.932Z"
   },
   {
    "duration": 28,
    "start_time": "2022-05-02T10:07:03.939Z"
   },
   {
    "duration": 19,
    "start_time": "2022-05-02T10:07:03.969Z"
   },
   {
    "duration": 45,
    "start_time": "2022-05-02T10:07:03.990Z"
   },
   {
    "duration": 19,
    "start_time": "2022-05-02T10:07:04.037Z"
   },
   {
    "duration": 23,
    "start_time": "2022-05-02T10:07:04.058Z"
   },
   {
    "duration": 46,
    "start_time": "2022-05-02T10:07:04.084Z"
   },
   {
    "duration": 9,
    "start_time": "2022-05-02T10:07:04.131Z"
   },
   {
    "duration": 15,
    "start_time": "2022-05-02T10:07:04.142Z"
   },
   {
    "duration": 9,
    "start_time": "2022-05-02T10:07:04.160Z"
   },
   {
    "duration": 4,
    "start_time": "2022-05-02T10:07:04.171Z"
   },
   {
    "duration": 59,
    "start_time": "2022-05-02T10:07:04.176Z"
   },
   {
    "duration": 12,
    "start_time": "2022-05-02T10:07:04.237Z"
   },
   {
    "duration": 17,
    "start_time": "2022-05-02T10:07:04.251Z"
   },
   {
    "duration": 13,
    "start_time": "2022-05-02T10:07:04.270Z"
   },
   {
    "duration": 45,
    "start_time": "2022-05-02T10:07:04.285Z"
   },
   {
    "duration": 5,
    "start_time": "2022-05-02T10:07:04.332Z"
   },
   {
    "duration": 7,
    "start_time": "2022-05-02T10:07:04.339Z"
   },
   {
    "duration": 7,
    "start_time": "2022-05-02T10:07:04.348Z"
   },
   {
    "duration": 492,
    "start_time": "2022-05-02T10:13:26.031Z"
   },
   {
    "duration": 208,
    "start_time": "2022-05-02T10:13:26.525Z"
   },
   {
    "duration": 24,
    "start_time": "2022-05-02T10:13:26.735Z"
   },
   {
    "duration": 57,
    "start_time": "2022-05-02T10:13:26.761Z"
   },
   {
    "duration": 5,
    "start_time": "2022-05-02T10:13:26.824Z"
   },
   {
    "duration": 34,
    "start_time": "2022-05-02T10:13:26.831Z"
   },
   {
    "duration": 6,
    "start_time": "2022-05-02T10:13:26.867Z"
   },
   {
    "duration": 43,
    "start_time": "2022-05-02T10:13:26.875Z"
   },
   {
    "duration": 30,
    "start_time": "2022-05-02T10:13:26.920Z"
   },
   {
    "duration": 42,
    "start_time": "2022-05-02T10:13:26.954Z"
   },
   {
    "duration": 117,
    "start_time": "2022-05-02T10:13:26.998Z"
   },
   {
    "duration": 128,
    "start_time": "2022-05-02T10:13:27.117Z"
   },
   {
    "duration": 94,
    "start_time": "2022-05-02T10:13:27.247Z"
   },
   {
    "duration": 50,
    "start_time": "2022-05-02T10:13:27.343Z"
   },
   {
    "duration": 4,
    "start_time": "2022-05-02T10:13:27.395Z"
   },
   {
    "duration": 35,
    "start_time": "2022-05-02T10:13:27.401Z"
   },
   {
    "duration": 89,
    "start_time": "2022-05-02T10:13:27.438Z"
   },
   {
    "duration": 34,
    "start_time": "2022-05-02T10:13:27.529Z"
   },
   {
    "duration": 16,
    "start_time": "2022-05-02T10:13:27.565Z"
   },
   {
    "duration": 5,
    "start_time": "2022-05-02T10:13:27.583Z"
   },
   {
    "duration": 61,
    "start_time": "2022-05-02T10:13:27.590Z"
   },
   {
    "duration": 22,
    "start_time": "2022-05-02T10:13:27.653Z"
   },
   {
    "duration": 25,
    "start_time": "2022-05-02T10:13:27.677Z"
   },
   {
    "duration": 38,
    "start_time": "2022-05-02T10:13:27.705Z"
   },
   {
    "duration": 24,
    "start_time": "2022-05-02T10:13:27.745Z"
   },
   {
    "duration": 22,
    "start_time": "2022-05-02T10:13:27.771Z"
   },
   {
    "duration": 38,
    "start_time": "2022-05-02T10:13:27.795Z"
   },
   {
    "duration": 16,
    "start_time": "2022-05-02T10:13:27.837Z"
   },
   {
    "duration": 13,
    "start_time": "2022-05-02T10:13:27.855Z"
   },
   {
    "duration": 5,
    "start_time": "2022-05-02T10:13:27.870Z"
   },
   {
    "duration": 62,
    "start_time": "2022-05-02T10:13:27.877Z"
   },
   {
    "duration": 14,
    "start_time": "2022-05-02T10:13:27.940Z"
   },
   {
    "duration": 17,
    "start_time": "2022-05-02T10:13:27.956Z"
   },
   {
    "duration": 13,
    "start_time": "2022-05-02T10:13:27.974Z"
   },
   {
    "duration": 44,
    "start_time": "2022-05-02T10:13:27.989Z"
   },
   {
    "duration": 5,
    "start_time": "2022-05-02T10:13:28.036Z"
   },
   {
    "duration": 13,
    "start_time": "2022-05-02T10:13:28.043Z"
   },
   {
    "duration": 6,
    "start_time": "2022-05-02T10:13:28.058Z"
   }
  ],
  "colab": {
   "collapsed_sections": [
    "E0vqbgi9ay0H",
    "VUC88oWjTJw2"
   ],
   "name": "yandex_music_project.ipynb",
   "provenance": []
  },
  "kernelspec": {
   "display_name": "Python 3 (ipykernel)",
   "language": "python",
   "name": "python3"
  },
  "language_info": {
   "codemirror_mode": {
    "name": "ipython",
    "version": 3
   },
   "file_extension": ".py",
   "mimetype": "text/x-python",
   "name": "python",
   "nbconvert_exporter": "python",
   "pygments_lexer": "ipython3",
   "version": "3.9.7"
  },
  "toc": {
   "base_numbering": 1,
   "nav_menu": {},
   "number_sections": true,
   "sideBar": true,
   "skip_h1_title": true,
   "title_cell": "Table of Contents",
   "title_sidebar": "Contents",
   "toc_cell": false,
   "toc_position": {},
   "toc_section_display": true,
   "toc_window_display": true
  }
 },
 "nbformat": 4,
 "nbformat_minor": 1
}
